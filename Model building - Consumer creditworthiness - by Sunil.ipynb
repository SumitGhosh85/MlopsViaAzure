{
 "cells": [
  {
   "cell_type": "markdown",
   "id": "ea7532ca",
   "metadata": {},
   "source": [
    "## Importing necessary libraries"
   ]
  },
  {
   "cell_type": "code",
   "execution_count": 1,
   "id": "35edd27f",
   "metadata": {},
   "outputs": [],
   "source": [
    "import pandas as pd\n",
    "import numpy as np\n",
    "import matplotlib.pyplot as plt\n",
    "import seaborn as sns\n",
    "import warnings\n",
    "from scipy.stats import f_oneway\n",
    "from scipy.stats import chi2_contingency\n",
    "from sklearn import metrics\n",
    "from sklearn.linear_model import LogisticRegression\n",
    "from sklearn.metrics import classification_report, confusion_matrix\n",
    "from sklearn.model_selection import train_test_split\n",
    "from sklearn.svm import LinearSVC\n",
    "from sklearn.preprocessing import StandardScaler\n",
    "from sklearn.svm import SVC\n",
    "from sklearn.neighbors import KNeighborsClassifier\n",
    "from sklearn.ensemble import RandomForestClassifier\n",
    "from sklearn.metrics import f1_score\n",
    "from sklearn.metrics import precision_score\n",
    "from sklearn.metrics import recall_score"
   ]
  },
  {
   "cell_type": "code",
   "execution_count": 2,
   "id": "7069a7fe",
   "metadata": {},
   "outputs": [],
   "source": [
    "df_temp = pd.read_excel('consumer creditworthiness test data.xlsx')\n",
    "def build_df(prediction):\n",
    "    ds = pd.DataFrame(prediction)\n",
    "    ds.columns = ['Predicted_Loan_Status']\n",
    "    df_excel = pd.concat([df_temp,ds],axis=1)\n",
    "    return df_excel"
   ]
  },
  {
   "cell_type": "markdown",
   "id": "13de5695",
   "metadata": {},
   "source": [
    "## Data dictionary"
   ]
  },
  {
   "cell_type": "code",
   "execution_count": 3,
   "id": "32d7efc4",
   "metadata": {},
   "outputs": [],
   "source": [
    "# Loan_ID: Unique Loan ID issued on every loan for a applicant, dtype: Object.\n",
    "# Gender: Gender of a applicant whether male or female, dtype: string.\n",
    "# Married: Martial status of a applicant i.e., Yes for married and NO for single, dtype: string.\n",
    "# Dependents: Number of individuals who are financially dependent on applicant, dtype: integer.\n",
    "# Education: Highest Education of applicant i.e, Bachelor, Post Graduation etc, dtype: string.\n",
    "# Self_employed: Whether the applicant is self employed or not i.e, Yes for self employed or else NO, dtype: string.\n",
    "# ApplicantIncome: Income of the applicant, dtype: integer.\n",
    "# CoApplicantIncome: Applicant have to put one nominee name that is called CoApplicant. So, it is column releated to coapplicant income, dtype: Integer.\n",
    "# Loan Amount: Amount of loan applicant wants to issue from the bank.\n",
    "# Loan_Amount_Term: The amount of time the lender gives you to repay your whole loan, dtype: float.\n",
    "# Credit_History: It tells about the credit done in the past by the applicant, dtype: Integer.\n",
    "# Property_Area: This tells about the applicant property is in which area i.e., Rural or Urban, dtype: String.\n",
    "# Loan_status: It is a target variable column which tells about whether the applicant application for loan approval is passed or not, dtype: String.\n"
   ]
  },
  {
   "cell_type": "markdown",
   "id": "e9ac6b47",
   "metadata": {},
   "source": [
    "## Load dataset"
   ]
  },
  {
   "cell_type": "code",
   "execution_count": 4,
   "id": "e9716d31",
   "metadata": {},
   "outputs": [],
   "source": [
    "df_orig = pd.read_excel('Consumer creditworthiness train data.xlsx')"
   ]
  },
  {
   "cell_type": "markdown",
   "id": "9a375f42",
   "metadata": {},
   "source": [
    "## Copy original dataframe to make a working copy"
   ]
  },
  {
   "cell_type": "code",
   "execution_count": 5,
   "id": "27a1088d",
   "metadata": {},
   "outputs": [],
   "source": [
    "df = df_orig.copy()"
   ]
  },
  {
   "cell_type": "markdown",
   "id": "63bbaa28",
   "metadata": {},
   "source": [
    "## View dataset characteristics and data values\n"
   ]
  },
  {
   "cell_type": "code",
   "execution_count": 6,
   "id": "484c0489",
   "metadata": {},
   "outputs": [
    {
     "data": {
      "text/plain": [
       "(521, 13)"
      ]
     },
     "execution_count": 6,
     "metadata": {},
     "output_type": "execute_result"
    }
   ],
   "source": [
    "#No. of rows and columns\n",
    "df_orig.shape"
   ]
  },
  {
   "cell_type": "code",
   "execution_count": 7,
   "id": "d16b8314",
   "metadata": {},
   "outputs": [
    {
     "data": {
      "text/html": [
       "<div>\n",
       "<style scoped>\n",
       "    .dataframe tbody tr th:only-of-type {\n",
       "        vertical-align: middle;\n",
       "    }\n",
       "\n",
       "    .dataframe tbody tr th {\n",
       "        vertical-align: top;\n",
       "    }\n",
       "\n",
       "    .dataframe thead th {\n",
       "        text-align: right;\n",
       "    }\n",
       "</style>\n",
       "<table border=\"1\" class=\"dataframe\">\n",
       "  <thead>\n",
       "    <tr style=\"text-align: right;\">\n",
       "      <th></th>\n",
       "      <th>Loan_ID</th>\n",
       "      <th>Gender</th>\n",
       "      <th>Married</th>\n",
       "      <th>Dependents</th>\n",
       "      <th>Education</th>\n",
       "      <th>Self_Employed</th>\n",
       "      <th>ApplicantIncome</th>\n",
       "      <th>CoapplicantIncome</th>\n",
       "      <th>LoanAmount</th>\n",
       "      <th>Loan_Amount_Term</th>\n",
       "      <th>Credit_History</th>\n",
       "      <th>Property_Area</th>\n",
       "      <th>Loan_Status</th>\n",
       "    </tr>\n",
       "  </thead>\n",
       "  <tbody>\n",
       "    <tr>\n",
       "      <th>0</th>\n",
       "      <td>294853</td>\n",
       "      <td>Male</td>\n",
       "      <td>No</td>\n",
       "      <td>0</td>\n",
       "      <td>Graduate</td>\n",
       "      <td>No</td>\n",
       "      <td>1316025</td>\n",
       "      <td>0.0</td>\n",
       "      <td>250000</td>\n",
       "      <td>360.0</td>\n",
       "      <td>1.0</td>\n",
       "      <td>Urban</td>\n",
       "      <td>Y</td>\n",
       "    </tr>\n",
       "    <tr>\n",
       "      <th>1</th>\n",
       "      <td>162883</td>\n",
       "      <td>Male</td>\n",
       "      <td>Yes</td>\n",
       "      <td>1</td>\n",
       "      <td>Graduate</td>\n",
       "      <td>No</td>\n",
       "      <td>1031175</td>\n",
       "      <td>339300.0</td>\n",
       "      <td>256000</td>\n",
       "      <td>360.0</td>\n",
       "      <td>1.0</td>\n",
       "      <td>Rural</td>\n",
       "      <td>N</td>\n",
       "    </tr>\n",
       "    <tr>\n",
       "      <th>2</th>\n",
       "      <td>620668</td>\n",
       "      <td>Male</td>\n",
       "      <td>Yes</td>\n",
       "      <td>0</td>\n",
       "      <td>Graduate</td>\n",
       "      <td>Yes</td>\n",
       "      <td>675000</td>\n",
       "      <td>0.0</td>\n",
       "      <td>132000</td>\n",
       "      <td>360.0</td>\n",
       "      <td>1.0</td>\n",
       "      <td>Urban</td>\n",
       "      <td>Y</td>\n",
       "    </tr>\n",
       "    <tr>\n",
       "      <th>3</th>\n",
       "      <td>295747</td>\n",
       "      <td>Male</td>\n",
       "      <td>Yes</td>\n",
       "      <td>0</td>\n",
       "      <td>Not Graduate</td>\n",
       "      <td>No</td>\n",
       "      <td>581175</td>\n",
       "      <td>530550.0</td>\n",
       "      <td>240000</td>\n",
       "      <td>360.0</td>\n",
       "      <td>1.0</td>\n",
       "      <td>Urban</td>\n",
       "      <td>Y</td>\n",
       "    </tr>\n",
       "    <tr>\n",
       "      <th>4</th>\n",
       "      <td>133390</td>\n",
       "      <td>Male</td>\n",
       "      <td>No</td>\n",
       "      <td>0</td>\n",
       "      <td>Graduate</td>\n",
       "      <td>No</td>\n",
       "      <td>1350000</td>\n",
       "      <td>0.0</td>\n",
       "      <td>282000</td>\n",
       "      <td>360.0</td>\n",
       "      <td>1.0</td>\n",
       "      <td>Urban</td>\n",
       "      <td>Y</td>\n",
       "    </tr>\n",
       "  </tbody>\n",
       "</table>\n",
       "</div>"
      ],
      "text/plain": [
       "   Loan_ID Gender Married Dependents     Education Self_Employed  \\\n",
       "0   294853   Male      No          0      Graduate            No   \n",
       "1   162883   Male     Yes          1      Graduate            No   \n",
       "2   620668   Male     Yes          0      Graduate           Yes   \n",
       "3   295747   Male     Yes          0  Not Graduate            No   \n",
       "4   133390   Male      No          0      Graduate            No   \n",
       "\n",
       "   ApplicantIncome  CoapplicantIncome  LoanAmount  Loan_Amount_Term  \\\n",
       "0          1316025                0.0      250000             360.0   \n",
       "1          1031175           339300.0      256000             360.0   \n",
       "2           675000                0.0      132000             360.0   \n",
       "3           581175           530550.0      240000             360.0   \n",
       "4          1350000                0.0      282000             360.0   \n",
       "\n",
       "   Credit_History Property_Area Loan_Status  \n",
       "0             1.0         Urban           Y  \n",
       "1             1.0         Rural           N  \n",
       "2             1.0         Urban           Y  \n",
       "3             1.0         Urban           Y  \n",
       "4             1.0         Urban           Y  "
      ]
     },
     "execution_count": 7,
     "metadata": {},
     "output_type": "execute_result"
    }
   ],
   "source": [
    "#View the data\n",
    "df_orig.head()"
   ]
  },
  {
   "cell_type": "code",
   "execution_count": 8,
   "id": "968da193",
   "metadata": {},
   "outputs": [
    {
     "data": {
      "text/plain": [
       "Loan_ID                int64\n",
       "Gender                object\n",
       "Married               object\n",
       "Dependents            object\n",
       "Education             object\n",
       "Self_Employed         object\n",
       "ApplicantIncome        int64\n",
       "CoapplicantIncome    float64\n",
       "LoanAmount             int64\n",
       "Loan_Amount_Term     float64\n",
       "Credit_History       float64\n",
       "Property_Area         object\n",
       "Loan_Status           object\n",
       "dtype: object"
      ]
     },
     "execution_count": 8,
     "metadata": {},
     "output_type": "execute_result"
    }
   ],
   "source": [
    "#Check datatypes of data\n",
    "df_orig.dtypes"
   ]
  },
  {
   "cell_type": "markdown",
   "id": "e5b1a9c5",
   "metadata": {},
   "source": [
    "## Warnings suspension"
   ]
  },
  {
   "cell_type": "code",
   "execution_count": 9,
   "id": "c242a28b",
   "metadata": {},
   "outputs": [],
   "source": [
    "warnings.filterwarnings('ignore')"
   ]
  },
  {
   "cell_type": "code",
   "execution_count": 10,
   "id": "ee2cbdc9",
   "metadata": {},
   "outputs": [
    {
     "data": {
      "text/plain": [
       "0"
      ]
     },
     "execution_count": 10,
     "metadata": {},
     "output_type": "execute_result"
    }
   ],
   "source": [
    "#Any row having missing Loan_ID\n",
    "df_orig['Loan_ID'].isnull().sum()"
   ]
  },
  {
   "cell_type": "markdown",
   "id": "1374a0cf",
   "metadata": {},
   "source": [
    "## Columns having null values and not having null values"
   ]
  },
  {
   "cell_type": "code",
   "execution_count": 11,
   "id": "d72e2a67",
   "metadata": {},
   "outputs": [
    {
     "name": "stdout",
     "output_type": "stream",
     "text": [
      "<class 'pandas.core.frame.DataFrame'>\n",
      "RangeIndex: 521 entries, 0 to 520\n",
      "Data columns (total 13 columns):\n",
      " #   Column             Non-Null Count  Dtype  \n",
      "---  ------             --------------  -----  \n",
      " 0   Loan_ID            521 non-null    int64  \n",
      " 1   Gender             511 non-null    object \n",
      " 2   Married            518 non-null    object \n",
      " 3   Dependents         508 non-null    object \n",
      " 4   Education          521 non-null    object \n",
      " 5   Self_Employed      494 non-null    object \n",
      " 6   ApplicantIncome    521 non-null    int64  \n",
      " 7   CoapplicantIncome  521 non-null    float64\n",
      " 8   LoanAmount         521 non-null    int64  \n",
      " 9   Loan_Amount_Term   507 non-null    float64\n",
      " 10  Credit_History     478 non-null    float64\n",
      " 11  Property_Area      521 non-null    object \n",
      " 12  Loan_Status        521 non-null    object \n",
      "dtypes: float64(3), int64(3), object(7)\n",
      "memory usage: 53.0+ KB\n"
     ]
    }
   ],
   "source": [
    "df_orig.info()"
   ]
  },
  {
   "cell_type": "code",
   "execution_count": 12,
   "id": "bbe2af2e",
   "metadata": {},
   "outputs": [
    {
     "data": {
      "text/plain": [
       "Credit_History       43\n",
       "Self_Employed        27\n",
       "Loan_Amount_Term     14\n",
       "Dependents           13\n",
       "Gender               10\n",
       "Married               3\n",
       "Loan_ID               0\n",
       "Education             0\n",
       "ApplicantIncome       0\n",
       "CoapplicantIncome     0\n",
       "LoanAmount            0\n",
       "Property_Area         0\n",
       "Loan_Status           0\n",
       "dtype: int64"
      ]
     },
     "execution_count": 12,
     "metadata": {},
     "output_type": "execute_result"
    }
   ],
   "source": [
    "#Count of null values for each column\n",
    "df.isna().sum().sort_values(ascending=False)"
   ]
  },
  {
   "cell_type": "markdown",
   "id": "b6d210a1",
   "metadata": {},
   "source": [
    "\n",
    "# Not having null values\n",
    "- Loan_ID\n",
    "- Education\n",
    "- ApplicantIncome\n",
    "- CoapplicantIncome\n",
    "- LoanAmount\n",
    "- Property_Area\n",
    "- Loan_Status\n",
    "\n",
    "# Having null values\n",
    "- Gender\n",
    "- Married\n",
    "- Dependents\n",
    "- Self_Employed\n",
    "- Loan_Amount_Term\n",
    "- Credit_History\n"
   ]
  },
  {
   "cell_type": "code",
   "execution_count": 13,
   "id": "dd308044",
   "metadata": {},
   "outputs": [
    {
     "data": {
      "text/plain": [
       "1.0    405\n",
       "0.0     73\n",
       "Name: Credit_History, dtype: int64"
      ]
     },
     "execution_count": 13,
     "metadata": {},
     "output_type": "execute_result"
    }
   ],
   "source": [
    "df['Credit_History'].value_counts()"
   ]
  },
  {
   "cell_type": "code",
   "execution_count": 14,
   "id": "369db5b7",
   "metadata": {},
   "outputs": [
    {
     "data": {
      "text/plain": [
       "360.0    432\n",
       "180.0     36\n",
       "480.0     14\n",
       "300.0     13\n",
       "240.0      3\n",
       "120.0      3\n",
       "84.0       2\n",
       "60.0       2\n",
       "12.0       1\n",
       "36.0       1\n",
       "Name: Loan_Amount_Term, dtype: int64"
      ]
     },
     "execution_count": 14,
     "metadata": {},
     "output_type": "execute_result"
    }
   ],
   "source": [
    "df['Loan_Amount_Term'].value_counts()"
   ]
  },
  {
   "cell_type": "markdown",
   "id": "39524964",
   "metadata": {},
   "source": [
    "## Treat Null values"
   ]
  },
  {
   "cell_type": "code",
   "execution_count": 15,
   "id": "12bc7cda",
   "metadata": {},
   "outputs": [],
   "source": [
    "## Treat Null values\n",
    "#Even though it is float type. It has only 2 values.\n",
    "df['Credit_History'].fillna(df['Credit_History'].mode()[0],inplace=True) \n",
    "df['Self_Employed'].fillna(df['Self_Employed'].mode()[0],inplace=True)\n",
    "#Mean value is a float value which cannot be true for Loan Term. If we check mode value, it is 360. \n",
    "#We can either use mode value to replace null values or median value as it is a float datatype.\n",
    "df['Loan_Amount_Term'].fillna(np.nanmedian(df['Loan_Amount_Term']),inplace=True) \n",
    "#categorical feature. Using mode value to replace null values\n",
    "df['Dependents'].fillna(df['Dependents'].mode()[0],inplace=True)\n",
    "df['Gender'].fillna(df['Gender'].mode()[0],inplace=True)\n",
    "df['Married'].fillna(df['Married'].mode()[0],inplace=True)"
   ]
  },
  {
   "cell_type": "code",
   "execution_count": 16,
   "id": "62b269ba",
   "metadata": {},
   "outputs": [
    {
     "data": {
      "text/plain": [
       "Loan_ID              0\n",
       "Gender               0\n",
       "Married              0\n",
       "Dependents           0\n",
       "Education            0\n",
       "Self_Employed        0\n",
       "ApplicantIncome      0\n",
       "CoapplicantIncome    0\n",
       "LoanAmount           0\n",
       "Loan_Amount_Term     0\n",
       "Credit_History       0\n",
       "Property_Area        0\n",
       "Loan_Status          0\n",
       "dtype: int64"
      ]
     },
     "execution_count": 16,
     "metadata": {},
     "output_type": "execute_result"
    }
   ],
   "source": [
    "#After treating null values for each column\n",
    "df.isna().sum().sort_values(ascending=False)"
   ]
  },
  {
   "cell_type": "code",
   "execution_count": 17,
   "id": "614d2f19",
   "metadata": {},
   "outputs": [
    {
     "data": {
      "text/plain": [
       "Y    358\n",
       "N    163\n",
       "Name: Loan_Status, dtype: int64"
      ]
     },
     "execution_count": 17,
     "metadata": {},
     "output_type": "execute_result"
    }
   ],
   "source": [
    "#Count distinct values for Loan Status\n",
    "df['Loan_Status'].value_counts()"
   ]
  },
  {
   "cell_type": "markdown",
   "id": "74621be2",
   "metadata": {},
   "source": [
    "## Label Target feature(Loan_Status) as 1/0 in working copy dataframe"
   ]
  },
  {
   "cell_type": "code",
   "execution_count": 18,
   "id": "5a4bc933",
   "metadata": {},
   "outputs": [],
   "source": [
    "df['Loan_Status'] = np.where(df['Loan_Status']==\"Y\",1,0)"
   ]
  },
  {
   "cell_type": "code",
   "execution_count": 19,
   "id": "776e4e64",
   "metadata": {},
   "outputs": [
    {
     "data": {
      "text/html": [
       "<div>\n",
       "<style scoped>\n",
       "    .dataframe tbody tr th:only-of-type {\n",
       "        vertical-align: middle;\n",
       "    }\n",
       "\n",
       "    .dataframe tbody tr th {\n",
       "        vertical-align: top;\n",
       "    }\n",
       "\n",
       "    .dataframe thead th {\n",
       "        text-align: right;\n",
       "    }\n",
       "</style>\n",
       "<table border=\"1\" class=\"dataframe\">\n",
       "  <thead>\n",
       "    <tr style=\"text-align: right;\">\n",
       "      <th></th>\n",
       "      <th>Loan_ID</th>\n",
       "      <th>Gender</th>\n",
       "      <th>Married</th>\n",
       "      <th>Dependents</th>\n",
       "      <th>Education</th>\n",
       "      <th>Self_Employed</th>\n",
       "      <th>ApplicantIncome</th>\n",
       "      <th>CoapplicantIncome</th>\n",
       "      <th>LoanAmount</th>\n",
       "      <th>Loan_Amount_Term</th>\n",
       "      <th>Credit_History</th>\n",
       "      <th>Property_Area</th>\n",
       "      <th>Loan_Status</th>\n",
       "    </tr>\n",
       "  </thead>\n",
       "  <tbody>\n",
       "    <tr>\n",
       "      <th>0</th>\n",
       "      <td>294853</td>\n",
       "      <td>Male</td>\n",
       "      <td>No</td>\n",
       "      <td>0</td>\n",
       "      <td>Graduate</td>\n",
       "      <td>No</td>\n",
       "      <td>1316025</td>\n",
       "      <td>0.0</td>\n",
       "      <td>250000</td>\n",
       "      <td>360.0</td>\n",
       "      <td>1.0</td>\n",
       "      <td>Urban</td>\n",
       "      <td>1</td>\n",
       "    </tr>\n",
       "    <tr>\n",
       "      <th>1</th>\n",
       "      <td>162883</td>\n",
       "      <td>Male</td>\n",
       "      <td>Yes</td>\n",
       "      <td>1</td>\n",
       "      <td>Graduate</td>\n",
       "      <td>No</td>\n",
       "      <td>1031175</td>\n",
       "      <td>339300.0</td>\n",
       "      <td>256000</td>\n",
       "      <td>360.0</td>\n",
       "      <td>1.0</td>\n",
       "      <td>Rural</td>\n",
       "      <td>0</td>\n",
       "    </tr>\n",
       "    <tr>\n",
       "      <th>2</th>\n",
       "      <td>620668</td>\n",
       "      <td>Male</td>\n",
       "      <td>Yes</td>\n",
       "      <td>0</td>\n",
       "      <td>Graduate</td>\n",
       "      <td>Yes</td>\n",
       "      <td>675000</td>\n",
       "      <td>0.0</td>\n",
       "      <td>132000</td>\n",
       "      <td>360.0</td>\n",
       "      <td>1.0</td>\n",
       "      <td>Urban</td>\n",
       "      <td>1</td>\n",
       "    </tr>\n",
       "    <tr>\n",
       "      <th>3</th>\n",
       "      <td>295747</td>\n",
       "      <td>Male</td>\n",
       "      <td>Yes</td>\n",
       "      <td>0</td>\n",
       "      <td>Not Graduate</td>\n",
       "      <td>No</td>\n",
       "      <td>581175</td>\n",
       "      <td>530550.0</td>\n",
       "      <td>240000</td>\n",
       "      <td>360.0</td>\n",
       "      <td>1.0</td>\n",
       "      <td>Urban</td>\n",
       "      <td>1</td>\n",
       "    </tr>\n",
       "    <tr>\n",
       "      <th>4</th>\n",
       "      <td>133390</td>\n",
       "      <td>Male</td>\n",
       "      <td>No</td>\n",
       "      <td>0</td>\n",
       "      <td>Graduate</td>\n",
       "      <td>No</td>\n",
       "      <td>1350000</td>\n",
       "      <td>0.0</td>\n",
       "      <td>282000</td>\n",
       "      <td>360.0</td>\n",
       "      <td>1.0</td>\n",
       "      <td>Urban</td>\n",
       "      <td>1</td>\n",
       "    </tr>\n",
       "  </tbody>\n",
       "</table>\n",
       "</div>"
      ],
      "text/plain": [
       "   Loan_ID Gender Married Dependents     Education Self_Employed  \\\n",
       "0   294853   Male      No          0      Graduate            No   \n",
       "1   162883   Male     Yes          1      Graduate            No   \n",
       "2   620668   Male     Yes          0      Graduate           Yes   \n",
       "3   295747   Male     Yes          0  Not Graduate            No   \n",
       "4   133390   Male      No          0      Graduate            No   \n",
       "\n",
       "   ApplicantIncome  CoapplicantIncome  LoanAmount  Loan_Amount_Term  \\\n",
       "0          1316025                0.0      250000             360.0   \n",
       "1          1031175           339300.0      256000             360.0   \n",
       "2           675000                0.0      132000             360.0   \n",
       "3           581175           530550.0      240000             360.0   \n",
       "4          1350000                0.0      282000             360.0   \n",
       "\n",
       "   Credit_History Property_Area  Loan_Status  \n",
       "0             1.0         Urban            1  \n",
       "1             1.0         Rural            0  \n",
       "2             1.0         Urban            1  \n",
       "3             1.0         Urban            1  \n",
       "4             1.0         Urban            1  "
      ]
     },
     "execution_count": 19,
     "metadata": {},
     "output_type": "execute_result"
    }
   ],
   "source": [
    "df.head()"
   ]
  },
  {
   "cell_type": "code",
   "execution_count": 20,
   "id": "1af387a4",
   "metadata": {},
   "outputs": [],
   "source": [
    "#Split Independent and Dependent(Target) features into different dataframe\n",
    "Y = df[['Loan_Status']]\n",
    "X = df.drop(['Loan_Status'],axis=1)"
   ]
  },
  {
   "cell_type": "markdown",
   "id": "33257b57",
   "metadata": {},
   "source": [
    "## Splitting numerical and categorical features for ease of analysis\n"
   ]
  },
  {
   "cell_type": "code",
   "execution_count": 21,
   "id": "1c21bc65",
   "metadata": {},
   "outputs": [],
   "source": [
    "num = X.select_dtypes(include='number')\n",
    "char = X.select_dtypes(include='object')"
   ]
  },
  {
   "cell_type": "code",
   "execution_count": 22,
   "id": "9f40f733",
   "metadata": {},
   "outputs": [],
   "source": [
    "#Drop Loan_ID feature as it has no impact on target feature\n",
    "num.drop('Loan_ID',axis=1,inplace=True)"
   ]
  },
  {
   "cell_type": "code",
   "execution_count": 23,
   "id": "3172db25",
   "metadata": {},
   "outputs": [
    {
     "data": {
      "text/html": [
       "<div>\n",
       "<style scoped>\n",
       "    .dataframe tbody tr th:only-of-type {\n",
       "        vertical-align: middle;\n",
       "    }\n",
       "\n",
       "    .dataframe tbody tr th {\n",
       "        vertical-align: top;\n",
       "    }\n",
       "\n",
       "    .dataframe thead th {\n",
       "        text-align: right;\n",
       "    }\n",
       "</style>\n",
       "<table border=\"1\" class=\"dataframe\">\n",
       "  <thead>\n",
       "    <tr style=\"text-align: right;\">\n",
       "      <th></th>\n",
       "      <th>ApplicantIncome</th>\n",
       "      <th>CoapplicantIncome</th>\n",
       "      <th>LoanAmount</th>\n",
       "      <th>Loan_Amount_Term</th>\n",
       "      <th>Credit_History</th>\n",
       "    </tr>\n",
       "  </thead>\n",
       "  <tbody>\n",
       "    <tr>\n",
       "      <th>0</th>\n",
       "      <td>1316025</td>\n",
       "      <td>0.0</td>\n",
       "      <td>250000</td>\n",
       "      <td>360.0</td>\n",
       "      <td>1.0</td>\n",
       "    </tr>\n",
       "    <tr>\n",
       "      <th>1</th>\n",
       "      <td>1031175</td>\n",
       "      <td>339300.0</td>\n",
       "      <td>256000</td>\n",
       "      <td>360.0</td>\n",
       "      <td>1.0</td>\n",
       "    </tr>\n",
       "    <tr>\n",
       "      <th>2</th>\n",
       "      <td>675000</td>\n",
       "      <td>0.0</td>\n",
       "      <td>132000</td>\n",
       "      <td>360.0</td>\n",
       "      <td>1.0</td>\n",
       "    </tr>\n",
       "    <tr>\n",
       "      <th>3</th>\n",
       "      <td>581175</td>\n",
       "      <td>530550.0</td>\n",
       "      <td>240000</td>\n",
       "      <td>360.0</td>\n",
       "      <td>1.0</td>\n",
       "    </tr>\n",
       "    <tr>\n",
       "      <th>4</th>\n",
       "      <td>1350000</td>\n",
       "      <td>0.0</td>\n",
       "      <td>282000</td>\n",
       "      <td>360.0</td>\n",
       "      <td>1.0</td>\n",
       "    </tr>\n",
       "  </tbody>\n",
       "</table>\n",
       "</div>"
      ],
      "text/plain": [
       "   ApplicantIncome  CoapplicantIncome  LoanAmount  Loan_Amount_Term  \\\n",
       "0          1316025                0.0      250000             360.0   \n",
       "1          1031175           339300.0      256000             360.0   \n",
       "2           675000                0.0      132000             360.0   \n",
       "3           581175           530550.0      240000             360.0   \n",
       "4          1350000                0.0      282000             360.0   \n",
       "\n",
       "   Credit_History  \n",
       "0             1.0  \n",
       "1             1.0  \n",
       "2             1.0  \n",
       "3             1.0  \n",
       "4             1.0  "
      ]
     },
     "execution_count": 23,
     "metadata": {},
     "output_type": "execute_result"
    }
   ],
   "source": [
    "num.head()"
   ]
  },
  {
   "cell_type": "code",
   "execution_count": 24,
   "id": "75c73167",
   "metadata": {
    "scrolled": true
   },
   "outputs": [
    {
     "data": {
      "text/html": [
       "<div>\n",
       "<style scoped>\n",
       "    .dataframe tbody tr th:only-of-type {\n",
       "        vertical-align: middle;\n",
       "    }\n",
       "\n",
       "    .dataframe tbody tr th {\n",
       "        vertical-align: top;\n",
       "    }\n",
       "\n",
       "    .dataframe thead th {\n",
       "        text-align: right;\n",
       "    }\n",
       "</style>\n",
       "<table border=\"1\" class=\"dataframe\">\n",
       "  <thead>\n",
       "    <tr style=\"text-align: right;\">\n",
       "      <th></th>\n",
       "      <th>Gender</th>\n",
       "      <th>Married</th>\n",
       "      <th>Dependents</th>\n",
       "      <th>Education</th>\n",
       "      <th>Self_Employed</th>\n",
       "      <th>Property_Area</th>\n",
       "    </tr>\n",
       "  </thead>\n",
       "  <tbody>\n",
       "    <tr>\n",
       "      <th>0</th>\n",
       "      <td>Male</td>\n",
       "      <td>No</td>\n",
       "      <td>0</td>\n",
       "      <td>Graduate</td>\n",
       "      <td>No</td>\n",
       "      <td>Urban</td>\n",
       "    </tr>\n",
       "    <tr>\n",
       "      <th>1</th>\n",
       "      <td>Male</td>\n",
       "      <td>Yes</td>\n",
       "      <td>1</td>\n",
       "      <td>Graduate</td>\n",
       "      <td>No</td>\n",
       "      <td>Rural</td>\n",
       "    </tr>\n",
       "    <tr>\n",
       "      <th>2</th>\n",
       "      <td>Male</td>\n",
       "      <td>Yes</td>\n",
       "      <td>0</td>\n",
       "      <td>Graduate</td>\n",
       "      <td>Yes</td>\n",
       "      <td>Urban</td>\n",
       "    </tr>\n",
       "    <tr>\n",
       "      <th>3</th>\n",
       "      <td>Male</td>\n",
       "      <td>Yes</td>\n",
       "      <td>0</td>\n",
       "      <td>Not Graduate</td>\n",
       "      <td>No</td>\n",
       "      <td>Urban</td>\n",
       "    </tr>\n",
       "    <tr>\n",
       "      <th>4</th>\n",
       "      <td>Male</td>\n",
       "      <td>No</td>\n",
       "      <td>0</td>\n",
       "      <td>Graduate</td>\n",
       "      <td>No</td>\n",
       "      <td>Urban</td>\n",
       "    </tr>\n",
       "  </tbody>\n",
       "</table>\n",
       "</div>"
      ],
      "text/plain": [
       "  Gender Married Dependents     Education Self_Employed Property_Area\n",
       "0   Male      No          0      Graduate            No         Urban\n",
       "1   Male     Yes          1      Graduate            No         Rural\n",
       "2   Male     Yes          0      Graduate           Yes         Urban\n",
       "3   Male     Yes          0  Not Graduate            No         Urban\n",
       "4   Male      No          0      Graduate            No         Urban"
      ]
     },
     "execution_count": 24,
     "metadata": {},
     "output_type": "execute_result"
    }
   ],
   "source": [
    "char.head()"
   ]
  },
  {
   "cell_type": "markdown",
   "id": "51fcd9a3",
   "metadata": {},
   "source": [
    "## Outliers analysis"
   ]
  },
  {
   "cell_type": "code",
   "execution_count": 25,
   "id": "86e3eeac",
   "metadata": {
    "scrolled": true
   },
   "outputs": [
    {
     "data": {
      "text/html": [
       "<div>\n",
       "<style scoped>\n",
       "    .dataframe tbody tr th:only-of-type {\n",
       "        vertical-align: middle;\n",
       "    }\n",
       "\n",
       "    .dataframe tbody tr th {\n",
       "        vertical-align: top;\n",
       "    }\n",
       "\n",
       "    .dataframe thead th {\n",
       "        text-align: right;\n",
       "    }\n",
       "</style>\n",
       "<table border=\"1\" class=\"dataframe\">\n",
       "  <thead>\n",
       "    <tr style=\"text-align: right;\">\n",
       "      <th></th>\n",
       "      <th>count</th>\n",
       "      <th>mean</th>\n",
       "      <th>std</th>\n",
       "      <th>min</th>\n",
       "      <th>1%</th>\n",
       "      <th>5%</th>\n",
       "      <th>10%</th>\n",
       "      <th>25%</th>\n",
       "      <th>50%</th>\n",
       "      <th>75%</th>\n",
       "      <th>85%</th>\n",
       "      <th>90%</th>\n",
       "      <th>95%</th>\n",
       "      <th>99%</th>\n",
       "      <th>max</th>\n",
       "    </tr>\n",
       "  </thead>\n",
       "  <tbody>\n",
       "    <tr>\n",
       "      <th>ApplicantIncome</th>\n",
       "      <td>521.0</td>\n",
       "      <td>1.229406e+06</td>\n",
       "      <td>1.449755e+06</td>\n",
       "      <td>33750.0</td>\n",
       "      <td>242955.0</td>\n",
       "      <td>429075.0</td>\n",
       "      <td>497925.0</td>\n",
       "      <td>646875.0</td>\n",
       "      <td>858150.0</td>\n",
       "      <td>1292850.0</td>\n",
       "      <td>1705050.0</td>\n",
       "      <td>2138400.0</td>\n",
       "      <td>3281175.0</td>\n",
       "      <td>8312490.0</td>\n",
       "      <td>18225000.0</td>\n",
       "    </tr>\n",
       "    <tr>\n",
       "      <th>CoapplicantIncome</th>\n",
       "      <td>521.0</td>\n",
       "      <td>3.495994e+05</td>\n",
       "      <td>4.824296e+05</td>\n",
       "      <td>0.0</td>\n",
       "      <td>0.0</td>\n",
       "      <td>0.0</td>\n",
       "      <td>0.0</td>\n",
       "      <td>0.0</td>\n",
       "      <td>281250.0</td>\n",
       "      <td>517950.0</td>\n",
       "      <td>708750.0</td>\n",
       "      <td>856350.0</td>\n",
       "      <td>1125000.0</td>\n",
       "      <td>1864710.0</td>\n",
       "      <td>4500000.0</td>\n",
       "    </tr>\n",
       "    <tr>\n",
       "      <th>LoanAmount</th>\n",
       "      <td>521.0</td>\n",
       "      <td>2.797044e+05</td>\n",
       "      <td>1.712505e+05</td>\n",
       "      <td>0.0</td>\n",
       "      <td>0.0</td>\n",
       "      <td>88000.0</td>\n",
       "      <td>132000.0</td>\n",
       "      <td>196000.0</td>\n",
       "      <td>250000.0</td>\n",
       "      <td>320000.0</td>\n",
       "      <td>374000.0</td>\n",
       "      <td>450000.0</td>\n",
       "      <td>572000.0</td>\n",
       "      <td>988000.0</td>\n",
       "      <td>1400000.0</td>\n",
       "    </tr>\n",
       "    <tr>\n",
       "      <th>Loan_Amount_Term</th>\n",
       "      <td>521.0</td>\n",
       "      <td>3.437159e+02</td>\n",
       "      <td>6.280430e+01</td>\n",
       "      <td>12.0</td>\n",
       "      <td>91.2</td>\n",
       "      <td>180.0</td>\n",
       "      <td>300.0</td>\n",
       "      <td>360.0</td>\n",
       "      <td>360.0</td>\n",
       "      <td>360.0</td>\n",
       "      <td>360.0</td>\n",
       "      <td>360.0</td>\n",
       "      <td>360.0</td>\n",
       "      <td>480.0</td>\n",
       "      <td>480.0</td>\n",
       "    </tr>\n",
       "    <tr>\n",
       "      <th>Credit_History</th>\n",
       "      <td>521.0</td>\n",
       "      <td>8.598848e-01</td>\n",
       "      <td>3.474401e-01</td>\n",
       "      <td>0.0</td>\n",
       "      <td>0.0</td>\n",
       "      <td>0.0</td>\n",
       "      <td>0.0</td>\n",
       "      <td>1.0</td>\n",
       "      <td>1.0</td>\n",
       "      <td>1.0</td>\n",
       "      <td>1.0</td>\n",
       "      <td>1.0</td>\n",
       "      <td>1.0</td>\n",
       "      <td>1.0</td>\n",
       "      <td>1.0</td>\n",
       "    </tr>\n",
       "  </tbody>\n",
       "</table>\n",
       "</div>"
      ],
      "text/plain": [
       "                   count          mean           std      min        1%  \\\n",
       "ApplicantIncome    521.0  1.229406e+06  1.449755e+06  33750.0  242955.0   \n",
       "CoapplicantIncome  521.0  3.495994e+05  4.824296e+05      0.0       0.0   \n",
       "LoanAmount         521.0  2.797044e+05  1.712505e+05      0.0       0.0   \n",
       "Loan_Amount_Term   521.0  3.437159e+02  6.280430e+01     12.0      91.2   \n",
       "Credit_History     521.0  8.598848e-01  3.474401e-01      0.0       0.0   \n",
       "\n",
       "                         5%       10%       25%       50%        75%  \\\n",
       "ApplicantIncome    429075.0  497925.0  646875.0  858150.0  1292850.0   \n",
       "CoapplicantIncome       0.0       0.0       0.0  281250.0   517950.0   \n",
       "LoanAmount          88000.0  132000.0  196000.0  250000.0   320000.0   \n",
       "Loan_Amount_Term      180.0     300.0     360.0     360.0      360.0   \n",
       "Credit_History          0.0       0.0       1.0       1.0        1.0   \n",
       "\n",
       "                         85%        90%        95%        99%         max  \n",
       "ApplicantIncome    1705050.0  2138400.0  3281175.0  8312490.0  18225000.0  \n",
       "CoapplicantIncome   708750.0   856350.0  1125000.0  1864710.0   4500000.0  \n",
       "LoanAmount          374000.0   450000.0   572000.0   988000.0   1400000.0  \n",
       "Loan_Amount_Term       360.0      360.0      360.0      480.0       480.0  \n",
       "Credit_History           1.0        1.0        1.0        1.0         1.0  "
      ]
     },
     "execution_count": 25,
     "metadata": {},
     "output_type": "execute_result"
    }
   ],
   "source": [
    "# Check various percentiles for numerical features. \n",
    "num.describe(percentiles=[0.01,0.05,0.10,0.25,0.50,0.75,0.85,0.9,0.95,0.99]).T"
   ]
  },
  {
   "cell_type": "code",
   "execution_count": 26,
   "id": "8d7fcff7",
   "metadata": {},
   "outputs": [
    {
     "data": {
      "text/plain": [
       "ApplicantIncome      6.480148\n",
       "CoapplicantIncome    3.407483\n",
       "LoanAmount           2.485041\n",
       "Loan_Amount_Term    -2.376678\n",
       "Credit_History      -2.079620\n",
       "dtype: float64"
      ]
     },
     "execution_count": 26,
     "metadata": {},
     "output_type": "execute_result"
    }
   ],
   "source": [
    "# Every numerical feature is highly skewed. Last 2 features are negatively skewed.\n",
    "num.skew()"
   ]
  },
  {
   "cell_type": "code",
   "execution_count": 27,
   "id": "a9ed0cf6",
   "metadata": {},
   "outputs": [
    {
     "data": {
      "image/png": "[encoded data removed]",
      "text/plain": [
       "<Figure size 720x360 with 1 Axes>"
      ]
     },
     "metadata": {
      "needs_background": "light"
     },
     "output_type": "display_data"
    },
    {
     "data": {
      "image/png": "[encoded data removed]",
      "text/plain": [
       "<Figure size 720x360 with 1 Axes>"
      ]
     },
     "metadata": {
      "needs_background": "light"
     },
     "output_type": "display_data"
    },
    {
     "data": {
      "image/png": "[encoded data removed]",
      "text/plain": [
       "<Figure size 720x360 with 1 Axes>"
      ]
     },
     "metadata": {
      "needs_background": "light"
     },
     "output_type": "display_data"
    }
   ],
   "source": [
    "for col in num.columns:\n",
    "    if col not in(\"Loan_Amount_Term\",\"Credit_History\"):\n",
    "        plt.figure(figsize=(10,5)) #X-axis, Y-axis\n",
    "        plt.title('Boxplot for'+\" \"+col, fontsize=20)\n",
    "        sns.boxplot(df[col])\n",
    "        plt.show() "
   ]
  },
  {
   "cell_type": "markdown",
   "id": "24c7d8b0",
   "metadata": {},
   "source": [
    "#### Box plot indicate outliers but as data is skewed, it is normal to give such indication.\n",
    "- Considering the business case, Applicant Income, Co-applicant Income could be huge for senior executives like CEO etc. so It cannot be considered as outliers. \n",
    "- Similarly, loan amount can be very large for some customers depending on their need which cannot be considered as outlier.\n",
    "- As some features figures are very large and data is highly skewed, we will take log of these features to make it more normally distributed. It will be better for the model."
   ]
  },
  {
   "cell_type": "markdown",
   "id": "a1c5897e",
   "metadata": {},
   "source": [
    "## Feature Scaling\n",
    "We will determine it when we will go for modelling. Mainly needed for distance based algorithm."
   ]
  },
  {
   "cell_type": "markdown",
   "id": "98f2e26d",
   "metadata": {},
   "source": [
    "## Feature engineering - Derived Features/New Features"
   ]
  },
  {
   "cell_type": "markdown",
   "id": "a82bf1aa",
   "metadata": {},
   "source": [
    "### New features\n",
    "- Total Income\n",
    "- EMI\n",
    "- salaried\n",
    "- Balance income (After paying OFF EMI)"
   ]
  },
  {
   "cell_type": "code",
   "execution_count": 28,
   "id": "10a3c2ff",
   "metadata": {},
   "outputs": [],
   "source": [
    "#Total income\n",
    "df['TotalIncome'] = df['ApplicantIncome'] + df['CoapplicantIncome']"
   ]
  },
  {
   "cell_type": "code",
   "execution_count": 29,
   "id": "fe313c38",
   "metadata": {},
   "outputs": [],
   "source": [
    "#EMI\n",
    "#Function to calculate EMI\n",
    "#Assumption : 9% interest rate\n",
    "def emi(p, r, t): \n",
    "    # for one month interest\n",
    "    r = r/(12*100)  \n",
    "    t = t \n",
    "    emi = (p*r*pow(1+r,t))/(pow(1+r,t)-1) \n",
    "    return emi \n",
    "df['EMI'] = emi(df['LoanAmount'], 9,df['Loan_Amount_Term'] )"
   ]
  },
  {
   "cell_type": "code",
   "execution_count": 30,
   "id": "30afeda2",
   "metadata": {},
   "outputs": [],
   "source": [
    "#Balance Income\n",
    "df['BalanceIncome'] = df['TotalIncome'] - df['EMI']"
   ]
  },
  {
   "cell_type": "code",
   "execution_count": 31,
   "id": "7c17ed02",
   "metadata": {},
   "outputs": [],
   "source": [
    "#Salaried\n",
    "df['salaried'] = np.where((df['Education'] == \"Graduate\") & (df['Self_Employed'] == \"No\"),\"Yes\",\"No\")"
   ]
  },
  {
   "cell_type": "markdown",
   "id": "c0619a45",
   "metadata": {},
   "source": [
    "# Hypothesis Testing for new numerical features (ANOVA test)\n",
    "## Null hypothesis : \n",
    "- New Independent feature have no impact on Target variable\n",
    "\n",
    "## Alternate hypothesis : \n",
    "- New Independent feature have impact on Target variable"
   ]
  },
  {
   "cell_type": "code",
   "execution_count": 32,
   "id": "6906ace2",
   "metadata": {},
   "outputs": [],
   "source": [
    "stats, p_total_income = f_oneway(df['TotalIncome'],df['Loan_Status'])\n",
    "stats, p_EMI = f_oneway(df['EMI'],df['Loan_Status'])\n",
    "stats, p_balance_income = f_oneway(df['BalanceIncome'],df['Loan_Status'])"
   ]
  },
  {
   "cell_type": "code",
   "execution_count": 33,
   "id": "c014ae2a",
   "metadata": {},
   "outputs": [
    {
     "name": "stdout",
     "output_type": "stream",
     "text": [
      "p-value for TotalIncome: 1.4264857706998352e-104\n",
      "p-value for EMI: 5.925021933671283e-159\n",
      "p-value for BalanceIncome: 1.9963205272515717e-104\n"
     ]
    }
   ],
   "source": [
    "print(\"p-value for TotalIncome:\",p_total_income)\n",
    "print(\"p-value for EMI:\", p_EMI)\n",
    "print(\"p-value for BalanceIncome:\", p_balance_income)"
   ]
  },
  {
   "cell_type": "markdown",
   "id": "5031a079",
   "metadata": {},
   "source": [
    "## Outcome of hypothesis testing for numerical features\n",
    "- p-value in case of TotalIncome, EMI, BalanceIncome is < 5%. It means we reject null hypothesis.\n",
    "    - These features have impact on target variable. So we will use them."
   ]
  },
  {
   "cell_type": "code",
   "execution_count": 34,
   "id": "c3591aa0",
   "metadata": {},
   "outputs": [
    {
     "data": {
      "text/plain": [
       "Text(0, 0.5, 'Percentage')"
      ]
     },
     "execution_count": 34,
     "metadata": {},
     "output_type": "execute_result"
    },
    {
     "data": {
      "image/png": "[encoded data removed]",
      "text/plain": [
       "<Figure size 432x288 with 1 Axes>"
      ]
     },
     "metadata": {
      "needs_background": "light"
     },
     "output_type": "display_data"
    }
   ],
   "source": [
    "#Visual validation of hypothesis testing\n",
    "bins=[0,500000,1000000,1500000,2000000] \n",
    "group=['Low','Average','High', 'Very high'] \n",
    "df['TotalIncome_bin']=pd.cut(df['TotalIncome'],bins,labels=group)\n",
    "TotalIncome_bin = pd.crosstab(df['TotalIncome_bin'],df['Loan_Status']) \n",
    "TotalIncome_bin.div(TotalIncome_bin.sum(1).astype(float), axis=0).plot(kind=\"bar\", stacked=True) \n",
    "plt.xlabel('TotalIncome') \n",
    "plt.ylabel('Percentage')"
   ]
  },
  {
   "cell_type": "markdown",
   "id": "b5d673d2",
   "metadata": {},
   "source": [
    "### When total income is low, loan approval is No(0) and and for avg,high and very high incomes, loan approval is Yes (1)"
   ]
  },
  {
   "cell_type": "code",
   "execution_count": 35,
   "id": "8211e71e",
   "metadata": {},
   "outputs": [
    {
     "data": {
      "text/plain": [
       "Text(0, 0.5, 'Percentage')"
      ]
     },
     "execution_count": 35,
     "metadata": {},
     "output_type": "execute_result"
    },
    {
     "data": {
      "image/png": "[encoded data removed]",
      "text/plain": [
       "<Figure size 432x288 with 1 Axes>"
      ]
     },
     "metadata": {
      "needs_background": "light"
     },
     "output_type": "display_data"
    }
   ],
   "source": [
    "#Visual validation of hypothesis testing\n",
    "bins=[0,3000,6000,9000] \n",
    "group=['Low','Average','High'] \n",
    "df['EMI_bin']=pd.cut(df['EMI'],bins,labels=group)\n",
    "emi_bin = pd.crosstab(df['EMI_bin'],df['Loan_Status']) \n",
    "emi_bin.div(emi_bin.sum(1).astype(float), axis=0).plot(kind=\"bar\", stacked=True) \n",
    "plt.xlabel('emi') \n",
    "plt.ylabel('Percentage')"
   ]
  },
  {
   "cell_type": "markdown",
   "id": "4e93e7d1",
   "metadata": {},
   "source": [
    "## When EMI is low, Loan approval is higher and when it is high, loan approval is low"
   ]
  },
  {
   "cell_type": "code",
   "execution_count": 36,
   "id": "a11d2d32",
   "metadata": {},
   "outputs": [
    {
     "data": {
      "text/plain": [
       "Text(0, 0.5, 'Percentage')"
      ]
     },
     "execution_count": 36,
     "metadata": {},
     "output_type": "execute_result"
    },
    {
     "data": {
      "image/png": "[encoded data removed]",
      "text/plain": [
       "<Figure size 432x288 with 1 Axes>"
      ]
     },
     "metadata": {
      "needs_background": "light"
     },
     "output_type": "display_data"
    }
   ],
   "source": [
    "#Visual validation of hypothesis testing\n",
    "bins=[0,500000,1000000,1500000,2000000] \n",
    "group=['Low','Average','High', 'Very high'] \n",
    "df['BalanceIncome_bin']=pd.cut(df['BalanceIncome'],bins,labels=group)\n",
    "BalanceIncome_bin = pd.crosstab(df['BalanceIncome_bin'],df['Loan_Status']) \n",
    "BalanceIncome_bin.div(BalanceIncome_bin.sum(1).astype(float), axis=0).plot(kind=\"bar\", stacked=True) \n",
    "plt.xlabel('BalanceIncome') \n",
    "plt.ylabel('Percentage')"
   ]
  },
  {
   "cell_type": "markdown",
   "id": "9d23a0f4",
   "metadata": {},
   "source": [
    "### When Balance inocome is low, loan approval is No(0) and and for avg,high and very high balance incomes, loan approval is Yes (1)"
   ]
  },
  {
   "cell_type": "markdown",
   "id": "a66f7016",
   "metadata": {},
   "source": [
    "# Hypothesis Testing for new categorical feature (Chi square test)\n",
    "## Null hypothesis : \n",
    "- New Independent feature have no impact on Target variable\n",
    "\n",
    "## Alternate hypothesis : \n",
    "- New Independent feature have impact on Target variable"
   ]
  },
  {
   "cell_type": "code",
   "execution_count": 37,
   "id": "395d2be0",
   "metadata": {},
   "outputs": [
    {
     "data": {
      "text/plain": [
       "0.0823915929466944"
      ]
     },
     "execution_count": 37,
     "metadata": {},
     "output_type": "execute_result"
    }
   ],
   "source": [
    "#Salaried\n",
    "contingency_salaried = pd.crosstab(df['salaried'], df['Loan_Status'])\n",
    "c, p_salaried, dof, expected = chi2_contingency(contingency_salaried)\n",
    "p_salaried"
   ]
  },
  {
   "cell_type": "markdown",
   "id": "5b85eb43",
   "metadata": {},
   "source": [
    "## Outcome of hypothesis testing for categorical features\n",
    "- p-value in case of salaried is > 5%. It means we accept null hypothesis.\n",
    "    - This feature have no impact on target variable. So we will not use it.\n"
   ]
  },
  {
   "cell_type": "code",
   "execution_count": 38,
   "id": "ce7b6981",
   "metadata": {
    "scrolled": true
   },
   "outputs": [
    {
     "data": {
      "image/png": "[encoded data removed]",
      "text/plain": [
       "<Figure size 288x288 with 1 Axes>"
      ]
     },
     "metadata": {
      "needs_background": "light"
     },
     "output_type": "display_data"
    }
   ],
   "source": [
    "#Visual validation of hypothesis testing\n",
    "salaried =pd.crosstab(df['salaried'],df['Loan_Status']) \n",
    "salaried.div(salaried.sum(1).astype(float), axis=0).plot(kind=\"bar\", stacked=True, figsize=(4,4)) \n",
    "plt.ylabel('Percentage')\n",
    "plt.show()\n"
   ]
  },
  {
   "cell_type": "code",
   "execution_count": 39,
   "id": "10b6baa1",
   "metadata": {},
   "outputs": [
    {
     "data": {
      "text/plain": [
       "Index(['Loan_ID', 'Gender', 'Married', 'Dependents', 'Education',\n",
       "       'Self_Employed', 'ApplicantIncome', 'CoapplicantIncome', 'LoanAmount',\n",
       "       'Loan_Amount_Term', 'Credit_History', 'Property_Area', 'Loan_Status',\n",
       "       'TotalIncome', 'EMI', 'BalanceIncome', 'salaried', 'TotalIncome_bin',\n",
       "       'EMI_bin', 'BalanceIncome_bin'],\n",
       "      dtype='object')"
      ]
     },
     "execution_count": 39,
     "metadata": {},
     "output_type": "execute_result"
    }
   ],
   "source": [
    "df.columns"
   ]
  },
  {
   "cell_type": "code",
   "execution_count": 40,
   "id": "d80c791d",
   "metadata": {},
   "outputs": [],
   "source": [
    "df.drop('TotalIncome_bin',axis=1,inplace=True)\n",
    "df.drop('EMI_bin',axis=1,inplace=True)\n",
    "df.drop('BalanceIncome_bin',axis=1,inplace=True)\n",
    "df.drop('salaried',axis=1,inplace=True)\n",
    "df.drop('Loan_ID',axis=1,inplace=True)\n",
    "df.drop('Loan_Status',axis=1,inplace=True) #It is a target variable\n",
    "df.drop('ApplicantIncome',axis=1,inplace=True) #As we already have total income now\n",
    "df.drop('CoapplicantIncome',axis=1,inplace=True) #As we already have total income now"
   ]
  },
  {
   "cell_type": "code",
   "execution_count": 41,
   "id": "f502f8d0",
   "metadata": {},
   "outputs": [
    {
     "data": {
      "text/plain": [
       "Index(['Gender', 'Married', 'Dependents', 'Education', 'Self_Employed',\n",
       "       'LoanAmount', 'Loan_Amount_Term', 'Credit_History', 'Property_Area',\n",
       "       'TotalIncome', 'EMI', 'BalanceIncome'],\n",
       "      dtype='object')"
      ]
     },
     "execution_count": 41,
     "metadata": {},
     "output_type": "execute_result"
    }
   ],
   "source": [
    "df.columns"
   ]
  },
  {
   "cell_type": "code",
   "execution_count": 42,
   "id": "cbf4a4e5",
   "metadata": {},
   "outputs": [],
   "source": [
    "df.drop(char,axis=1,inplace=True)"
   ]
  },
  {
   "cell_type": "code",
   "execution_count": 43,
   "id": "c8fa8746",
   "metadata": {},
   "outputs": [
    {
     "data": {
      "text/plain": [
       "Index(['LoanAmount', 'Loan_Amount_Term', 'Credit_History', 'TotalIncome',\n",
       "       'EMI', 'BalanceIncome'],\n",
       "      dtype='object')"
      ]
     },
     "execution_count": 43,
     "metadata": {},
     "output_type": "execute_result"
    }
   ],
   "source": [
    "df.columns"
   ]
  },
  {
   "cell_type": "markdown",
   "id": "b2152a01",
   "metadata": {},
   "source": [
    "## Encoding of categorical variables"
   ]
  },
  {
   "cell_type": "code",
   "execution_count": 44,
   "id": "fed01741",
   "metadata": {},
   "outputs": [],
   "source": [
    "char.drop(['Gender','Dependents','Self_Employed'],axis=1, inplace=True)"
   ]
  },
  {
   "cell_type": "code",
   "execution_count": 45,
   "id": "123d88cb",
   "metadata": {},
   "outputs": [
    {
     "data": {
      "text/html": [
       "<div>\n",
       "<style scoped>\n",
       "    .dataframe tbody tr th:only-of-type {\n",
       "        vertical-align: middle;\n",
       "    }\n",
       "\n",
       "    .dataframe tbody tr th {\n",
       "        vertical-align: top;\n",
       "    }\n",
       "\n",
       "    .dataframe thead th {\n",
       "        text-align: right;\n",
       "    }\n",
       "</style>\n",
       "<table border=\"1\" class=\"dataframe\">\n",
       "  <thead>\n",
       "    <tr style=\"text-align: right;\">\n",
       "      <th></th>\n",
       "      <th>Married_Yes</th>\n",
       "      <th>Education_Not Graduate</th>\n",
       "      <th>Property_Area_Semiurban</th>\n",
       "      <th>Property_Area_Urban</th>\n",
       "    </tr>\n",
       "  </thead>\n",
       "  <tbody>\n",
       "    <tr>\n",
       "      <th>0</th>\n",
       "      <td>0</td>\n",
       "      <td>0</td>\n",
       "      <td>0</td>\n",
       "      <td>1</td>\n",
       "    </tr>\n",
       "    <tr>\n",
       "      <th>1</th>\n",
       "      <td>1</td>\n",
       "      <td>0</td>\n",
       "      <td>0</td>\n",
       "      <td>0</td>\n",
       "    </tr>\n",
       "    <tr>\n",
       "      <th>2</th>\n",
       "      <td>1</td>\n",
       "      <td>0</td>\n",
       "      <td>0</td>\n",
       "      <td>1</td>\n",
       "    </tr>\n",
       "    <tr>\n",
       "      <th>3</th>\n",
       "      <td>1</td>\n",
       "      <td>1</td>\n",
       "      <td>0</td>\n",
       "      <td>1</td>\n",
       "    </tr>\n",
       "    <tr>\n",
       "      <th>4</th>\n",
       "      <td>0</td>\n",
       "      <td>0</td>\n",
       "      <td>0</td>\n",
       "      <td>1</td>\n",
       "    </tr>\n",
       "    <tr>\n",
       "      <th>...</th>\n",
       "      <td>...</td>\n",
       "      <td>...</td>\n",
       "      <td>...</td>\n",
       "      <td>...</td>\n",
       "    </tr>\n",
       "    <tr>\n",
       "      <th>516</th>\n",
       "      <td>1</td>\n",
       "      <td>0</td>\n",
       "      <td>1</td>\n",
       "      <td>0</td>\n",
       "    </tr>\n",
       "    <tr>\n",
       "      <th>517</th>\n",
       "      <td>1</td>\n",
       "      <td>1</td>\n",
       "      <td>1</td>\n",
       "      <td>0</td>\n",
       "    </tr>\n",
       "    <tr>\n",
       "      <th>518</th>\n",
       "      <td>0</td>\n",
       "      <td>0</td>\n",
       "      <td>1</td>\n",
       "      <td>0</td>\n",
       "    </tr>\n",
       "    <tr>\n",
       "      <th>519</th>\n",
       "      <td>0</td>\n",
       "      <td>1</td>\n",
       "      <td>0</td>\n",
       "      <td>0</td>\n",
       "    </tr>\n",
       "    <tr>\n",
       "      <th>520</th>\n",
       "      <td>1</td>\n",
       "      <td>1</td>\n",
       "      <td>1</td>\n",
       "      <td>0</td>\n",
       "    </tr>\n",
       "  </tbody>\n",
       "</table>\n",
       "<p>521 rows × 4 columns</p>\n",
       "</div>"
      ],
      "text/plain": [
       "     Married_Yes  Education_Not Graduate  Property_Area_Semiurban  \\\n",
       "0              0                       0                        0   \n",
       "1              1                       0                        0   \n",
       "2              1                       0                        0   \n",
       "3              1                       1                        0   \n",
       "4              0                       0                        0   \n",
       "..           ...                     ...                      ...   \n",
       "516            1                       0                        1   \n",
       "517            1                       1                        1   \n",
       "518            0                       0                        1   \n",
       "519            0                       1                        0   \n",
       "520            1                       1                        1   \n",
       "\n",
       "     Property_Area_Urban  \n",
       "0                      1  \n",
       "1                      0  \n",
       "2                      1  \n",
       "3                      1  \n",
       "4                      1  \n",
       "..                   ...  \n",
       "516                    0  \n",
       "517                    0  \n",
       "518                    0  \n",
       "519                    0  \n",
       "520                    0  \n",
       "\n",
       "[521 rows x 4 columns]"
      ]
     },
     "execution_count": 45,
     "metadata": {},
     "output_type": "execute_result"
    }
   ],
   "source": [
    "encoded_df = pd.get_dummies(char,drop_first=True)\n",
    "encoded_df"
   ]
  },
  {
   "cell_type": "code",
   "execution_count": 46,
   "id": "cf43018a",
   "metadata": {},
   "outputs": [
    {
     "data": {
      "text/html": [
       "<div>\n",
       "<style scoped>\n",
       "    .dataframe tbody tr th:only-of-type {\n",
       "        vertical-align: middle;\n",
       "    }\n",
       "\n",
       "    .dataframe tbody tr th {\n",
       "        vertical-align: top;\n",
       "    }\n",
       "\n",
       "    .dataframe thead th {\n",
       "        text-align: right;\n",
       "    }\n",
       "</style>\n",
       "<table border=\"1\" class=\"dataframe\">\n",
       "  <thead>\n",
       "    <tr style=\"text-align: right;\">\n",
       "      <th></th>\n",
       "      <th>LoanAmount</th>\n",
       "      <th>Loan_Amount_Term</th>\n",
       "      <th>Credit_History</th>\n",
       "      <th>TotalIncome</th>\n",
       "      <th>EMI</th>\n",
       "      <th>BalanceIncome</th>\n",
       "      <th>Married_Yes</th>\n",
       "      <th>Education_Not Graduate</th>\n",
       "      <th>Property_Area_Semiurban</th>\n",
       "      <th>Property_Area_Urban</th>\n",
       "      <th>Loan_Status</th>\n",
       "    </tr>\n",
       "  </thead>\n",
       "  <tbody>\n",
       "    <tr>\n",
       "      <th>0</th>\n",
       "      <td>250000</td>\n",
       "      <td>360.0</td>\n",
       "      <td>1.0</td>\n",
       "      <td>1316025.0</td>\n",
       "      <td>2011.556542</td>\n",
       "      <td>1.314013e+06</td>\n",
       "      <td>0</td>\n",
       "      <td>0</td>\n",
       "      <td>0</td>\n",
       "      <td>1</td>\n",
       "      <td>1</td>\n",
       "    </tr>\n",
       "    <tr>\n",
       "      <th>1</th>\n",
       "      <td>256000</td>\n",
       "      <td>360.0</td>\n",
       "      <td>1.0</td>\n",
       "      <td>1370475.0</td>\n",
       "      <td>2059.833899</td>\n",
       "      <td>1.368415e+06</td>\n",
       "      <td>1</td>\n",
       "      <td>0</td>\n",
       "      <td>0</td>\n",
       "      <td>0</td>\n",
       "      <td>0</td>\n",
       "    </tr>\n",
       "    <tr>\n",
       "      <th>2</th>\n",
       "      <td>132000</td>\n",
       "      <td>360.0</td>\n",
       "      <td>1.0</td>\n",
       "      <td>675000.0</td>\n",
       "      <td>1062.101854</td>\n",
       "      <td>6.739379e+05</td>\n",
       "      <td>1</td>\n",
       "      <td>0</td>\n",
       "      <td>0</td>\n",
       "      <td>1</td>\n",
       "      <td>1</td>\n",
       "    </tr>\n",
       "    <tr>\n",
       "      <th>3</th>\n",
       "      <td>240000</td>\n",
       "      <td>360.0</td>\n",
       "      <td>1.0</td>\n",
       "      <td>1111725.0</td>\n",
       "      <td>1931.094281</td>\n",
       "      <td>1.109794e+06</td>\n",
       "      <td>1</td>\n",
       "      <td>1</td>\n",
       "      <td>0</td>\n",
       "      <td>1</td>\n",
       "      <td>1</td>\n",
       "    </tr>\n",
       "    <tr>\n",
       "      <th>4</th>\n",
       "      <td>282000</td>\n",
       "      <td>360.0</td>\n",
       "      <td>1.0</td>\n",
       "      <td>1350000.0</td>\n",
       "      <td>2269.035780</td>\n",
       "      <td>1.347731e+06</td>\n",
       "      <td>0</td>\n",
       "      <td>0</td>\n",
       "      <td>0</td>\n",
       "      <td>1</td>\n",
       "      <td>1</td>\n",
       "    </tr>\n",
       "    <tr>\n",
       "      <th>...</th>\n",
       "      <td>...</td>\n",
       "      <td>...</td>\n",
       "      <td>...</td>\n",
       "      <td>...</td>\n",
       "      <td>...</td>\n",
       "      <td>...</td>\n",
       "      <td>...</td>\n",
       "      <td>...</td>\n",
       "      <td>...</td>\n",
       "      <td>...</td>\n",
       "      <td>...</td>\n",
       "    </tr>\n",
       "    <tr>\n",
       "      <th>516</th>\n",
       "      <td>226000</td>\n",
       "      <td>480.0</td>\n",
       "      <td>1.0</td>\n",
       "      <td>824175.0</td>\n",
       "      <td>1743.276979</td>\n",
       "      <td>8.224317e+05</td>\n",
       "      <td>1</td>\n",
       "      <td>0</td>\n",
       "      <td>1</td>\n",
       "      <td>0</td>\n",
       "      <td>1</td>\n",
       "    </tr>\n",
       "    <tr>\n",
       "      <th>517</th>\n",
       "      <td>246000</td>\n",
       "      <td>360.0</td>\n",
       "      <td>0.0</td>\n",
       "      <td>1096650.0</td>\n",
       "      <td>1979.371638</td>\n",
       "      <td>1.094671e+06</td>\n",
       "      <td>1</td>\n",
       "      <td>1</td>\n",
       "      <td>1</td>\n",
       "      <td>0</td>\n",
       "      <td>0</td>\n",
       "    </tr>\n",
       "    <tr>\n",
       "      <th>518</th>\n",
       "      <td>370000</td>\n",
       "      <td>360.0</td>\n",
       "      <td>1.0</td>\n",
       "      <td>1484550.0</td>\n",
       "      <td>2977.103683</td>\n",
       "      <td>1.481573e+06</td>\n",
       "      <td>0</td>\n",
       "      <td>0</td>\n",
       "      <td>1</td>\n",
       "      <td>0</td>\n",
       "      <td>0</td>\n",
       "    </tr>\n",
       "    <tr>\n",
       "      <th>519</th>\n",
       "      <td>190000</td>\n",
       "      <td>360.0</td>\n",
       "      <td>1.0</td>\n",
       "      <td>765000.0</td>\n",
       "      <td>1528.782972</td>\n",
       "      <td>7.634712e+05</td>\n",
       "      <td>0</td>\n",
       "      <td>1</td>\n",
       "      <td>0</td>\n",
       "      <td>0</td>\n",
       "      <td>0</td>\n",
       "    </tr>\n",
       "    <tr>\n",
       "      <th>520</th>\n",
       "      <td>90000</td>\n",
       "      <td>360.0</td>\n",
       "      <td>1.0</td>\n",
       "      <td>885150.0</td>\n",
       "      <td>724.160355</td>\n",
       "      <td>8.844258e+05</td>\n",
       "      <td>1</td>\n",
       "      <td>1</td>\n",
       "      <td>1</td>\n",
       "      <td>0</td>\n",
       "      <td>1</td>\n",
       "    </tr>\n",
       "  </tbody>\n",
       "</table>\n",
       "<p>521 rows × 11 columns</p>\n",
       "</div>"
      ],
      "text/plain": [
       "     LoanAmount  Loan_Amount_Term  Credit_History  TotalIncome          EMI  \\\n",
       "0        250000             360.0             1.0    1316025.0  2011.556542   \n",
       "1        256000             360.0             1.0    1370475.0  2059.833899   \n",
       "2        132000             360.0             1.0     675000.0  1062.101854   \n",
       "3        240000             360.0             1.0    1111725.0  1931.094281   \n",
       "4        282000             360.0             1.0    1350000.0  2269.035780   \n",
       "..          ...               ...             ...          ...          ...   \n",
       "516      226000             480.0             1.0     824175.0  1743.276979   \n",
       "517      246000             360.0             0.0    1096650.0  1979.371638   \n",
       "518      370000             360.0             1.0    1484550.0  2977.103683   \n",
       "519      190000             360.0             1.0     765000.0  1528.782972   \n",
       "520       90000             360.0             1.0     885150.0   724.160355   \n",
       "\n",
       "     BalanceIncome  Married_Yes  Education_Not Graduate  \\\n",
       "0     1.314013e+06            0                       0   \n",
       "1     1.368415e+06            1                       0   \n",
       "2     6.739379e+05            1                       0   \n",
       "3     1.109794e+06            1                       1   \n",
       "4     1.347731e+06            0                       0   \n",
       "..             ...          ...                     ...   \n",
       "516   8.224317e+05            1                       0   \n",
       "517   1.094671e+06            1                       1   \n",
       "518   1.481573e+06            0                       0   \n",
       "519   7.634712e+05            0                       1   \n",
       "520   8.844258e+05            1                       1   \n",
       "\n",
       "     Property_Area_Semiurban  Property_Area_Urban  Loan_Status  \n",
       "0                          0                    1            1  \n",
       "1                          0                    0            0  \n",
       "2                          0                    1            1  \n",
       "3                          0                    1            1  \n",
       "4                          0                    1            1  \n",
       "..                       ...                  ...          ...  \n",
       "516                        1                    0            1  \n",
       "517                        1                    0            0  \n",
       "518                        1                    0            0  \n",
       "519                        0                    0            0  \n",
       "520                        1                    0            1  \n",
       "\n",
       "[521 rows x 11 columns]"
      ]
     },
     "execution_count": 46,
     "metadata": {},
     "output_type": "execute_result"
    }
   ],
   "source": [
    "concat_encoded_df = pd.concat([df,encoded_df,Y],axis=1)\n",
    "concat_encoded_df"
   ]
  },
  {
   "cell_type": "code",
   "execution_count": 47,
   "id": "e5a347e5",
   "metadata": {},
   "outputs": [
    {
     "data": {
      "image/png": "[encoded data removed]",
      "text/plain": [
       "<Figure size 1440x720 with 2 Axes>"
      ]
     },
     "metadata": {
      "needs_background": "light"
     },
     "output_type": "display_data"
    }
   ],
   "source": [
    "#Heatmap of correlation matrix\n",
    "plt.figure(figsize=(20,10))\n",
    "plt.title('Correlation matrix',fontsize=20)\n",
    "sns.heatmap(concat_encoded_df.corr(),cmap='RdYlGn',annot=True,vmax=1.0,vmin=-1.0,fmt='g') #fmt creates scale appearing towards right\n",
    "plt.show()"
   ]
  },
  {
   "cell_type": "markdown",
   "id": "e8ff679a",
   "metadata": {},
   "source": [
    "## Correlation matrix indicate +ve correlation exist between:\n",
    "- Credit History and Loan Status\n",
    "- Semiurban Property area and Loan Status"
   ]
  },
  {
   "cell_type": "markdown",
   "id": "9ff5a9ad",
   "metadata": {},
   "source": [
    "# Model building using different algos"
   ]
  },
  {
   "cell_type": "code",
   "execution_count": 48,
   "id": "b869fe3a",
   "metadata": {},
   "outputs": [],
   "source": [
    "#Build empty dataframe to capture metrics for easy comparison\n",
    "df_metrics = pd.DataFrame(columns=['Model_Algo','Accuracy','AUC','f1_score','precision','recall'])"
   ]
  },
  {
   "cell_type": "markdown",
   "id": "4236cbe7",
   "metadata": {},
   "source": [
    "## Logistic Regression"
   ]
  },
  {
   "cell_type": "code",
   "execution_count": 49,
   "id": "5fcb4993",
   "metadata": {},
   "outputs": [],
   "source": [
    "Y = concat_encoded_df[['Loan_Status']]\n",
    "X = concat_encoded_df.drop('Loan_Status',axis=1)"
   ]
  },
  {
   "cell_type": "code",
   "execution_count": 50,
   "id": "14790e43",
   "metadata": {},
   "outputs": [],
   "source": [
    "# Train test split in 80:20 ratio\n",
    "train_X, test_X, train_y, test_y = train_test_split(X, Y, test_size=0.2, random_state=42) "
   ]
  },
  {
   "cell_type": "code",
   "execution_count": 51,
   "id": "cbca6942",
   "metadata": {},
   "outputs": [
    {
     "data": {
      "text/plain": [
       "LogisticRegression()"
      ]
     },
     "execution_count": 51,
     "metadata": {},
     "output_type": "execute_result"
    }
   ],
   "source": [
    "#Training the model\n",
    "model_LR = LogisticRegression()\n",
    "model_LR.fit(train_X, train_y)"
   ]
  },
  {
   "cell_type": "code",
   "execution_count": 52,
   "id": "a215f3d1",
   "metadata": {},
   "outputs": [],
   "source": [
    "#Prediction on test data\n",
    "pred_y = model_LR.predict(test_X)"
   ]
  },
  {
   "cell_type": "code",
   "execution_count": 53,
   "id": "a0a79616",
   "metadata": {},
   "outputs": [
    {
     "data": {
      "text/plain": [
       "array([[ 0, 36],\n",
       "       [ 0, 69]], dtype=int64)"
      ]
     },
     "execution_count": 53,
     "metadata": {},
     "output_type": "execute_result"
    }
   ],
   "source": [
    "#Confusion matrix\n",
    "confusion_matrix(test_y,pred_y)"
   ]
  },
  {
   "cell_type": "code",
   "execution_count": 54,
   "id": "48556cfb",
   "metadata": {},
   "outputs": [
    {
     "data": {
      "text/plain": [
       "0.6571428571428571"
      ]
     },
     "execution_count": 54,
     "metadata": {},
     "output_type": "execute_result"
    }
   ],
   "source": [
    "#Accuracy\n",
    "metrics.accuracy_score(test_y,pred_y)"
   ]
  },
  {
   "cell_type": "code",
   "execution_count": 55,
   "id": "6237d3c5",
   "metadata": {},
   "outputs": [
    {
     "data": {
      "text/plain": [
       "0.41264090177133655"
      ]
     },
     "execution_count": 55,
     "metadata": {},
     "output_type": "execute_result"
    }
   ],
   "source": [
    "#AUC\n",
    "auc = metrics.roc_auc_score(test_y,model_LR.predict_proba(test_X)[:,1]) #Predicted probability pertaining to Class 1.\n",
    "auc"
   ]
  },
  {
   "cell_type": "code",
   "execution_count": 56,
   "id": "f729b055",
   "metadata": {},
   "outputs": [
    {
     "name": "stdout",
     "output_type": "stream",
     "text": [
      "f1_score: 0.7931034482758621\n",
      "precision_score: 0.6571428571428571\n",
      "recall: 1.0\n"
     ]
    }
   ],
   "source": [
    "print('f1_score:', f1_score(test_y,pred_y))\n",
    "print('precision_score:',precision_score(test_y,pred_y))\n",
    "print('recall:',recall_score(test_y,pred_y))"
   ]
  },
  {
   "cell_type": "code",
   "execution_count": 57,
   "id": "10d0ef84",
   "metadata": {},
   "outputs": [],
   "source": [
    "#Adding metrics into metrics DF\n",
    "dict_1 = {'Model_Algo':'Logistic Regression','Accuracy':65.71,'AUC':0.41,'f1_score':0.79,'precision':0.66,'recall':1.0}\n",
    "df_metrics=df_metrics.append(dict_1,ignore_index=True)"
   ]
  },
  {
   "cell_type": "markdown",
   "id": "c8ba7360",
   "metadata": {},
   "source": [
    "## Evaluation metrics of Logistic Regression\n",
    "- Accuracy = 65.71%\n",
    "- AUC = 0.41"
   ]
  },
  {
   "cell_type": "markdown",
   "id": "ed002d93",
   "metadata": {},
   "source": [
    "## Applying regularization in Logistic Regression to improve performance"
   ]
  },
  {
   "cell_type": "code",
   "execution_count": 58,
   "id": "98a4f6e8",
   "metadata": {},
   "outputs": [],
   "source": [
    "#regularization is penalty = 'l1' to improve performance metrics.\n",
    "model_LR2 = LogisticRegression(penalty='l1',C=5,solver='liblinear',max_iter=1000) "
   ]
  },
  {
   "cell_type": "code",
   "execution_count": 59,
   "id": "b186cd41",
   "metadata": {},
   "outputs": [
    {
     "data": {
      "text/plain": [
       "LogisticRegression(C=5, max_iter=1000, penalty='l1', solver='liblinear')"
      ]
     },
     "execution_count": 59,
     "metadata": {},
     "output_type": "execute_result"
    }
   ],
   "source": [
    "model_LR2.fit(train_X, train_y)"
   ]
  },
  {
   "cell_type": "code",
   "execution_count": 60,
   "id": "78712e7e",
   "metadata": {},
   "outputs": [],
   "source": [
    "pred_y2 = model_LR2.predict(test_X)"
   ]
  },
  {
   "cell_type": "code",
   "execution_count": 61,
   "id": "38e680ed",
   "metadata": {},
   "outputs": [
    {
     "data": {
      "text/plain": [
       "0.819047619047619"
      ]
     },
     "execution_count": 61,
     "metadata": {},
     "output_type": "execute_result"
    }
   ],
   "source": [
    "metrics.accuracy_score(test_y,pred_y2)"
   ]
  },
  {
   "cell_type": "code",
   "execution_count": 62,
   "id": "64b11909",
   "metadata": {},
   "outputs": [
    {
     "data": {
      "text/plain": [
       "0.8111916264090178"
      ]
     },
     "execution_count": 62,
     "metadata": {},
     "output_type": "execute_result"
    }
   ],
   "source": [
    "auc = metrics.roc_auc_score(test_y,model_LR2.predict_proba(test_X)[:,1]) #Predicted probability pertaining to Class 1.\n",
    "auc"
   ]
  },
  {
   "cell_type": "code",
   "execution_count": 63,
   "id": "10ef7ecf",
   "metadata": {},
   "outputs": [
    {
     "name": "stdout",
     "output_type": "stream",
     "text": [
      "              precision    recall  f1-score   support\n",
      "\n",
      "           0       1.00      0.47      0.64        36\n",
      "           1       0.78      1.00      0.88        69\n",
      "\n",
      "    accuracy                           0.82       105\n",
      "   macro avg       0.89      0.74      0.76       105\n",
      "weighted avg       0.86      0.82      0.80       105\n",
      "\n"
     ]
    }
   ],
   "source": [
    "print(classification_report(test_y,pred_y2))"
   ]
  },
  {
   "cell_type": "code",
   "execution_count": 64,
   "id": "8117188d",
   "metadata": {},
   "outputs": [
    {
     "name": "stdout",
     "output_type": "stream",
     "text": [
      "f1_score: 0.8789808917197451\n",
      "precision_score: 0.7840909090909091\n",
      "recall: 1.0\n"
     ]
    }
   ],
   "source": [
    "print('f1_score:', f1_score(test_y,pred_y2))\n",
    "print('precision_score:',precision_score(test_y,pred_y2))\n",
    "print('recall:',recall_score(test_y,pred_y2))"
   ]
  },
  {
   "cell_type": "code",
   "execution_count": 65,
   "id": "28cbccca",
   "metadata": {},
   "outputs": [],
   "source": [
    "dict_1 = {'Model_Algo':'Logistic Regression with Reg','Accuracy':82,'AUC':0.81,'f1_score':0.88,'precision':0.78,'recall':1.0}\n",
    "df_metrics=df_metrics.append(dict_1,ignore_index=True)"
   ]
  },
  {
   "cell_type": "markdown",
   "id": "0387d31b",
   "metadata": {},
   "source": [
    "## Evaluation metrics of Logistic Regression with Regularization\n",
    "- Accuracy = 82.85%\n",
    "- AUC = 0.81"
   ]
  },
  {
   "cell_type": "markdown",
   "id": "5c4bf002",
   "metadata": {},
   "source": [
    "## Support Vector Machine (SVM)"
   ]
  },
  {
   "cell_type": "code",
   "execution_count": 66,
   "id": "3c1b2170",
   "metadata": {},
   "outputs": [],
   "source": [
    "#Scale the data as we are using SVM\n",
    "scaler = StandardScaler()\n",
    "X_train = scaler.fit_transform(train_X)\n",
    "X_test = scaler.transform(test_X)"
   ]
  },
  {
   "cell_type": "code",
   "execution_count": 67,
   "id": "4c75c776",
   "metadata": {},
   "outputs": [
    {
     "data": {
      "text/plain": [
       "SVC(C=0.1, gamma=0.001, probability=True, random_state=42)"
      ]
     },
     "execution_count": 67,
     "metadata": {},
     "output_type": "execute_result"
    }
   ],
   "source": [
    "#Create support vector classifier, #rbf is default kernel value. C is punishing factor for errors.\n",
    "model_svc = SVC(kernel='rbf',random_state=42,gamma=0.001,C=0.1,probability=True) \n",
    "model_svc.fit(X_train,train_y)"
   ]
  },
  {
   "cell_type": "code",
   "execution_count": 68,
   "id": "ec633943",
   "metadata": {},
   "outputs": [],
   "source": [
    "pred_y_svc = model_svc.predict(X_test)"
   ]
  },
  {
   "cell_type": "code",
   "execution_count": 69,
   "id": "283e3c36",
   "metadata": {},
   "outputs": [
    {
     "data": {
      "text/plain": [
       "array([[ 0, 36],\n",
       "       [ 0, 69]], dtype=int64)"
      ]
     },
     "execution_count": 69,
     "metadata": {},
     "output_type": "execute_result"
    }
   ],
   "source": [
    "confusion_matrix(test_y,pred_y_svc)"
   ]
  },
  {
   "cell_type": "code",
   "execution_count": 70,
   "id": "484d7730",
   "metadata": {},
   "outputs": [
    {
     "data": {
      "text/plain": [
       "0.6571428571428571"
      ]
     },
     "execution_count": 70,
     "metadata": {},
     "output_type": "execute_result"
    }
   ],
   "source": [
    "metrics.accuracy_score(test_y,pred_y_svc)"
   ]
  },
  {
   "cell_type": "code",
   "execution_count": 71,
   "id": "b5efb193",
   "metadata": {},
   "outputs": [
    {
     "data": {
      "text/plain": [
       "0.751610305958132"
      ]
     },
     "execution_count": 71,
     "metadata": {},
     "output_type": "execute_result"
    }
   ],
   "source": [
    "auc = metrics.roc_auc_score(test_y,model_svc.predict_proba(X_test)[:,1]) #Predicted probability pertaining to Class 1.\n",
    "auc"
   ]
  },
  {
   "cell_type": "code",
   "execution_count": 72,
   "id": "fd594527",
   "metadata": {},
   "outputs": [
    {
     "name": "stdout",
     "output_type": "stream",
     "text": [
      "f1_score: 0.7931034482758621\n",
      "precision_score: 0.6571428571428571\n",
      "recall: 1.0\n"
     ]
    }
   ],
   "source": [
    "print('f1_score:', f1_score(test_y,pred_y_svc))\n",
    "print('precision_score:',precision_score(test_y,pred_y_svc))\n",
    "print('recall:',recall_score(test_y,pred_y_svc))"
   ]
  },
  {
   "cell_type": "code",
   "execution_count": 73,
   "id": "3af59860",
   "metadata": {},
   "outputs": [],
   "source": [
    "dict_1 = {'Model_Algo':'SVM','Accuracy':66,'AUC':0.75,'f1_score':0.79,'precision':0.65,'recall':1.0}\n",
    "df_metrics=df_metrics.append(dict_1,ignore_index=True)"
   ]
  },
  {
   "cell_type": "markdown",
   "id": "64d1f999",
   "metadata": {},
   "source": [
    "## Evaluation metrics of SVM\n",
    "- Accuracy = 65.71%\n",
    "- AUC = 0.75"
   ]
  },
  {
   "cell_type": "markdown",
   "id": "4dbd3d16",
   "metadata": {},
   "source": [
    "## Using GridSearchCV to find best param for SVM"
   ]
  },
  {
   "cell_type": "code",
   "execution_count": 74,
   "id": "3cac8e9b",
   "metadata": {},
   "outputs": [
    {
     "data": {
      "text/plain": [
       "GridSearchCV(cv=10, estimator=SVC(),\n",
       "             param_grid={'C': [0.01, 0.1, 1, 2, 3],\n",
       "                         'gamma': [0.001, 0.01, 0.1, 1, 1.5, 2]},\n",
       "             scoring='roc_auc')"
      ]
     },
     "execution_count": 74,
     "metadata": {},
     "output_type": "execute_result"
    }
   ],
   "source": [
    "from sklearn.model_selection import GridSearchCV\n",
    "param = {'gamma':[0.001,.01, 0.1, 1, 1.5,2], 'C': [0.01,0.1,1,2,3]} #gamma determines shape of hyperplane, too high value means overfitting. C is regularization parameters so it punishes for error. kind of autobalance stuff.\n",
    "modelCV = GridSearchCV(estimator=SVC(), param_grid=param, cv=10, scoring='roc_auc')\n",
    "modelCV.fit(X_train,train_y)"
   ]
  },
  {
   "cell_type": "code",
   "execution_count": 75,
   "id": "bcff36fb",
   "metadata": {},
   "outputs": [
    {
     "data": {
      "text/plain": [
       "0.7600606290261462"
      ]
     },
     "execution_count": 75,
     "metadata": {},
     "output_type": "execute_result"
    }
   ],
   "source": [
    "modelCV.best_score_"
   ]
  },
  {
   "cell_type": "code",
   "execution_count": 76,
   "id": "27255ccb",
   "metadata": {},
   "outputs": [
    {
     "data": {
      "text/plain": [
       "{'C': 0.01, 'gamma': 0.01}"
      ]
     },
     "execution_count": 76,
     "metadata": {},
     "output_type": "execute_result"
    }
   ],
   "source": [
    "modelCV.best_params_"
   ]
  },
  {
   "cell_type": "code",
   "execution_count": 77,
   "id": "bff538ab",
   "metadata": {},
   "outputs": [
    {
     "data": {
      "text/plain": [
       "SVC(C=0.01, gamma=0.01, probability=True, random_state=42)"
      ]
     },
     "execution_count": 77,
     "metadata": {},
     "output_type": "execute_result"
    }
   ],
   "source": [
    "#Create support vector classifier\n",
    "model_svc2 = SVC(kernel='rbf',random_state=42,gamma=0.01,C=0.01,probability=True) \n",
    "model_svc2.fit(X_train,train_y)"
   ]
  },
  {
   "cell_type": "code",
   "execution_count": 78,
   "id": "35005329",
   "metadata": {},
   "outputs": [],
   "source": [
    "pred_y_svc2 = model_svc2.predict(X_test)"
   ]
  },
  {
   "cell_type": "code",
   "execution_count": 79,
   "id": "0fb8486e",
   "metadata": {},
   "outputs": [
    {
     "data": {
      "text/plain": [
       "0.6571428571428571"
      ]
     },
     "execution_count": 79,
     "metadata": {},
     "output_type": "execute_result"
    }
   ],
   "source": [
    "metrics.accuracy_score(test_y,pred_y_svc2)"
   ]
  },
  {
   "cell_type": "code",
   "execution_count": 80,
   "id": "49a10356",
   "metadata": {},
   "outputs": [
    {
     "data": {
      "text/plain": [
       "0.7721417069243156"
      ]
     },
     "execution_count": 80,
     "metadata": {},
     "output_type": "execute_result"
    }
   ],
   "source": [
    "auc = metrics.roc_auc_score(test_y,model_svc2.predict_proba(X_test)[:,1]) #Predicted probability pertaining to Class 1.\n",
    "auc"
   ]
  },
  {
   "cell_type": "code",
   "execution_count": 81,
   "id": "640c30ad",
   "metadata": {},
   "outputs": [
    {
     "name": "stdout",
     "output_type": "stream",
     "text": [
      "f1_score: 0.7931034482758621\n",
      "precision_score: 0.6571428571428571\n",
      "recall: 1.0\n"
     ]
    }
   ],
   "source": [
    "print('f1_score:', f1_score(test_y,pred_y_svc2))\n",
    "print('precision_score:',precision_score(test_y,pred_y_svc2))\n",
    "print('recall:',recall_score(test_y,pred_y_svc2))"
   ]
  },
  {
   "cell_type": "code",
   "execution_count": 82,
   "id": "475d2adc",
   "metadata": {},
   "outputs": [],
   "source": [
    "dict_1 = {'Model_Algo':'SVM with GridSearch','Accuracy':66,'AUC':0.77,'f1_score':0.79,'precision':0.65,'recall':1.0}\n",
    "df_metrics=df_metrics.append(dict_1,ignore_index=True)"
   ]
  },
  {
   "cell_type": "markdown",
   "id": "1e327011",
   "metadata": {},
   "source": [
    "## Evaluation metrics of SVM after getting best param using GridSearchCV\n",
    "- Accuracy = 65.71%\n",
    "- AUC = 0.77"
   ]
  },
  {
   "cell_type": "markdown",
   "id": "e4aaed48",
   "metadata": {},
   "source": [
    "## K-Nearest Neighbours"
   ]
  },
  {
   "cell_type": "code",
   "execution_count": 83,
   "id": "4df060a4",
   "metadata": {},
   "outputs": [
    {
     "data": {
      "text/plain": [
       "KNeighborsClassifier()"
      ]
     },
     "execution_count": 83,
     "metadata": {},
     "output_type": "execute_result"
    }
   ],
   "source": [
    "model_knn = KNeighborsClassifier()\n",
    "model_knn.fit(X_train,train_y)"
   ]
  },
  {
   "cell_type": "code",
   "execution_count": 84,
   "id": "c5c25a77",
   "metadata": {},
   "outputs": [],
   "source": [
    "pred_y_knn = model_knn.predict(X_test)"
   ]
  },
  {
   "cell_type": "code",
   "execution_count": 85,
   "id": "af50477c",
   "metadata": {},
   "outputs": [
    {
     "data": {
      "text/plain": [
       "0.7904761904761904"
      ]
     },
     "execution_count": 85,
     "metadata": {},
     "output_type": "execute_result"
    }
   ],
   "source": [
    "metrics.accuracy_score(test_y,pred_y_knn)"
   ]
  },
  {
   "cell_type": "code",
   "execution_count": 86,
   "id": "1e5a2335",
   "metadata": {},
   "outputs": [
    {
     "data": {
      "text/plain": [
       "0.7236312399355878"
      ]
     },
     "execution_count": 86,
     "metadata": {},
     "output_type": "execute_result"
    }
   ],
   "source": [
    "auc = metrics.roc_auc_score(test_y,model_knn.predict_proba(X_test)[:,1]) #Predicted probability pertaining to Class 1.\n",
    "auc"
   ]
  },
  {
   "cell_type": "code",
   "execution_count": 87,
   "id": "043054c6",
   "metadata": {},
   "outputs": [
    {
     "name": "stdout",
     "output_type": "stream",
     "text": [
      "f1_score: 0.8571428571428571\n",
      "precision_score: 0.7764705882352941\n",
      "recall: 0.9565217391304348\n"
     ]
    }
   ],
   "source": [
    "print('f1_score:', f1_score(test_y,pred_y_knn))\n",
    "print('precision_score:',precision_score(test_y,pred_y_knn))\n",
    "print('recall:',recall_score(test_y,pred_y_knn))"
   ]
  },
  {
   "cell_type": "code",
   "execution_count": 88,
   "id": "1f8ae556",
   "metadata": {},
   "outputs": [],
   "source": [
    "dict_1 = {'Model_Algo':'KNN','Accuracy':79.04,'AUC':0.72,'f1_score':0.85,'precision':0.77,'recall':0.96}\n",
    "df_metrics=df_metrics.append(dict_1,ignore_index=True)"
   ]
  },
  {
   "cell_type": "markdown",
   "id": "f8416cc8",
   "metadata": {},
   "source": [
    "## Evaluation metrics of KNN\n",
    "- Accuracy = 79.04%\n",
    "- AUC = 0.72"
   ]
  },
  {
   "cell_type": "markdown",
   "id": "407303f2",
   "metadata": {},
   "source": [
    "## Using GridSearchCV to find best param for KNN"
   ]
  },
  {
   "cell_type": "code",
   "execution_count": 89,
   "id": "c0c4399b",
   "metadata": {},
   "outputs": [
    {
     "data": {
      "text/plain": [
       "GridSearchCV(cv=10, estimator=KNeighborsClassifier(),\n",
       "             param_grid=[{'metric': ['euclidean', 'manhattan', 'chebyshev',\n",
       "                                     'canberra'],\n",
       "                          'n_neighbors': range(3, 10)}],\n",
       "             scoring='roc_auc')"
      ]
     },
     "execution_count": 89,
     "metadata": {},
     "output_type": "execute_result"
    }
   ],
   "source": [
    "params = [{'n_neighbors': range(3,10), 'metric':['euclidean','manhattan','chebyshev','canberra']}]\n",
    "modelCV = GridSearchCV(KNeighborsClassifier(),params,cv=10,scoring='roc_auc')\n",
    "modelCV.fit(X_train,train_y)"
   ]
  },
  {
   "cell_type": "code",
   "execution_count": 90,
   "id": "69b303a5",
   "metadata": {},
   "outputs": [
    {
     "data": {
      "text/plain": [
       "0.7382120752810407"
      ]
     },
     "execution_count": 90,
     "metadata": {},
     "output_type": "execute_result"
    }
   ],
   "source": [
    "modelCV.best_score_"
   ]
  },
  {
   "cell_type": "code",
   "execution_count": 91,
   "id": "0f89d594",
   "metadata": {},
   "outputs": [
    {
     "data": {
      "text/plain": [
       "{'metric': 'manhattan', 'n_neighbors': 7}"
      ]
     },
     "execution_count": 91,
     "metadata": {},
     "output_type": "execute_result"
    }
   ],
   "source": [
    "modelCV.best_params_"
   ]
  },
  {
   "cell_type": "code",
   "execution_count": 92,
   "id": "7e38bdf0",
   "metadata": {},
   "outputs": [
    {
     "data": {
      "text/plain": [
       "KNeighborsClassifier(metric='manhattan', n_neighbors=7)"
      ]
     },
     "execution_count": 92,
     "metadata": {},
     "output_type": "execute_result"
    }
   ],
   "source": [
    "model_knn2 = KNeighborsClassifier(n_neighbors=7,metric='manhattan')\n",
    "model_knn2.fit(X_train,train_y)"
   ]
  },
  {
   "cell_type": "code",
   "execution_count": 93,
   "id": "5cfe5eab",
   "metadata": {},
   "outputs": [],
   "source": [
    "pred_y_knn2 = model_knn2.predict(X_test)"
   ]
  },
  {
   "cell_type": "code",
   "execution_count": 94,
   "id": "263e3266",
   "metadata": {
    "scrolled": true
   },
   "outputs": [
    {
     "data": {
      "text/plain": [
       "0.8"
      ]
     },
     "execution_count": 94,
     "metadata": {},
     "output_type": "execute_result"
    }
   ],
   "source": [
    "metrics.accuracy_score(test_y,pred_y_knn2)"
   ]
  },
  {
   "cell_type": "code",
   "execution_count": 95,
   "id": "585af52b",
   "metadata": {},
   "outputs": [
    {
     "data": {
      "text/plain": [
       "0.7264492753623188"
      ]
     },
     "execution_count": 95,
     "metadata": {},
     "output_type": "execute_result"
    }
   ],
   "source": [
    "auc = metrics.roc_auc_score(test_y,model_knn2.predict_proba(X_test)[:,1]) #Predicted probability pertaining to Class 1.\n",
    "auc"
   ]
  },
  {
   "cell_type": "code",
   "execution_count": 96,
   "id": "8fc97d43",
   "metadata": {},
   "outputs": [
    {
     "name": "stdout",
     "output_type": "stream",
     "text": [
      "f1_score: 0.8662420382165604\n",
      "precision_score: 0.7727272727272727\n",
      "recall: 0.9855072463768116\n"
     ]
    }
   ],
   "source": [
    "print('f1_score:', f1_score(test_y,pred_y_knn2))\n",
    "print('precision_score:',precision_score(test_y,pred_y_knn2))\n",
    "print('recall:',recall_score(test_y,pred_y_knn2))"
   ]
  },
  {
   "cell_type": "code",
   "execution_count": 97,
   "id": "c88c5def",
   "metadata": {},
   "outputs": [],
   "source": [
    "dict_1 = {'Model_Algo':'KNN with GridSearch','Accuracy':80,'AUC':0.73,'f1_score':0.87,'precision':0.77,'recall':0.98}\n",
    "df_metrics=df_metrics.append(dict_1,ignore_index=True)"
   ]
  },
  {
   "cell_type": "markdown",
   "id": "82ec0006",
   "metadata": {},
   "source": [
    "## Evaluation metrics of KNN after getting best param using GridSearchCV\n",
    "- Accuracy = 80%\n",
    "- AUC = 0.72"
   ]
  },
  {
   "cell_type": "markdown",
   "id": "f84ed610",
   "metadata": {},
   "source": [
    "## Random Forest"
   ]
  },
  {
   "cell_type": "code",
   "execution_count": 98,
   "id": "a070d165",
   "metadata": {},
   "outputs": [
    {
     "data": {
      "text/plain": [
       "RandomForestClassifier(max_depth=5, random_state=42)"
      ]
     },
     "execution_count": 98,
     "metadata": {},
     "output_type": "execute_result"
    }
   ],
   "source": [
    "model_RF = RandomForestClassifier(max_depth=5, n_estimators=100, random_state=42)\n",
    "model_RF.fit(train_X,train_y)"
   ]
  },
  {
   "cell_type": "code",
   "execution_count": 99,
   "id": "1bc525d7",
   "metadata": {},
   "outputs": [],
   "source": [
    "pred_y_RF = model_RF.predict(test_X)"
   ]
  },
  {
   "cell_type": "code",
   "execution_count": 100,
   "id": "1903df49",
   "metadata": {},
   "outputs": [
    {
     "data": {
      "text/plain": [
       "0.8"
      ]
     },
     "execution_count": 100,
     "metadata": {},
     "output_type": "execute_result"
    }
   ],
   "source": [
    "metrics.accuracy_score(test_y,pred_y_RF)"
   ]
  },
  {
   "cell_type": "code",
   "execution_count": 101,
   "id": "8e8cb117",
   "metadata": {},
   "outputs": [
    {
     "data": {
      "text/plain": [
       "0.8222624798711755"
      ]
     },
     "execution_count": 101,
     "metadata": {},
     "output_type": "execute_result"
    }
   ],
   "source": [
    "auc = metrics.roc_auc_score(test_y,model_RF.predict_proba(test_X)[:,1]) #Predicted probability pertaining to Class 1.\n",
    "auc"
   ]
  },
  {
   "cell_type": "code",
   "execution_count": 102,
   "id": "61577322",
   "metadata": {},
   "outputs": [
    {
     "name": "stdout",
     "output_type": "stream",
     "text": [
      "f1_score: 0.8645161290322582\n",
      "precision_score: 0.7790697674418605\n",
      "recall: 0.9710144927536232\n"
     ]
    }
   ],
   "source": [
    "print('f1_score:', f1_score(test_y,pred_y_RF))\n",
    "print('precision_score:',precision_score(test_y,pred_y_RF))\n",
    "print('recall:',recall_score(test_y,pred_y_RF))"
   ]
  },
  {
   "cell_type": "code",
   "execution_count": 103,
   "id": "843fe6aa",
   "metadata": {},
   "outputs": [],
   "source": [
    "dict_1 = {'Model_Algo':'RF','Accuracy':80,'AUC':0.82,'f1_score':0.86,'precision':0.77,'recall':0.97}\n",
    "df_metrics=df_metrics.append(dict_1,ignore_index=True)"
   ]
  },
  {
   "cell_type": "markdown",
   "id": "33e1ef28",
   "metadata": {},
   "source": [
    "## Evaluation metrics of Random Forest \n",
    "- Accuracy = 80%\n",
    "- AUC = 0.82"
   ]
  },
  {
   "cell_type": "markdown",
   "id": "a412aaf1",
   "metadata": {},
   "source": [
    "## Using GridSearchCV to find best param for Random Forest"
   ]
  },
  {
   "cell_type": "code",
   "execution_count": 104,
   "id": "d74bb52e",
   "metadata": {},
   "outputs": [
    {
     "data": {
      "text/plain": [
       "GridSearchCV(cv=10, estimator=RandomForestClassifier(random_state=42),\n",
       "             param_grid=[{'max_depth': [5, 10, 15],\n",
       "                          'max_features': ['sqrt', 0.2, 0.3, 0.5],\n",
       "                          'n_estimators': [50, 100, 150]}],\n",
       "             scoring='roc_auc')"
      ]
     },
     "execution_count": 104,
     "metadata": {},
     "output_type": "execute_result"
    }
   ],
   "source": [
    "param = [{'max_depth':[5,10,15], 'n_estimators': [50,100,150], 'max_features':['sqrt',0.2,0.3,0.5]}] \n",
    "model_RF2 = RandomForestClassifier(random_state=42)\n",
    "modelCV = GridSearchCV(model_RF2, param, cv=10, scoring='roc_auc')\n",
    "modelCV.fit(train_X,train_y)"
   ]
  },
  {
   "cell_type": "code",
   "execution_count": 105,
   "id": "2d240c0c",
   "metadata": {},
   "outputs": [
    {
     "data": {
      "text/plain": [
       "0.7680418719211823"
      ]
     },
     "execution_count": 105,
     "metadata": {},
     "output_type": "execute_result"
    }
   ],
   "source": [
    "modelCV.best_score_"
   ]
  },
  {
   "cell_type": "code",
   "execution_count": 106,
   "id": "59a793de",
   "metadata": {},
   "outputs": [
    {
     "data": {
      "text/plain": [
       "{'max_depth': 10, 'max_features': 0.2, 'n_estimators': 50}"
      ]
     },
     "execution_count": 106,
     "metadata": {},
     "output_type": "execute_result"
    }
   ],
   "source": [
    "modelCV.best_params_"
   ]
  },
  {
   "cell_type": "code",
   "execution_count": 107,
   "id": "c3f7cded",
   "metadata": {},
   "outputs": [
    {
     "data": {
      "text/plain": [
       "RandomForestClassifier(max_depth=10, max_features=0.2, n_estimators=50,\n",
       "                       random_state=42)"
      ]
     },
     "execution_count": 107,
     "metadata": {},
     "output_type": "execute_result"
    }
   ],
   "source": [
    "model_RF2 = RandomForestClassifier(max_depth=10, n_estimators=50, max_features=0.2, random_state=42)\n",
    "model_RF2.fit(train_X,train_y)"
   ]
  },
  {
   "cell_type": "code",
   "execution_count": 108,
   "id": "1ddb0bff",
   "metadata": {},
   "outputs": [],
   "source": [
    "pred_y_RF2 = model_RF2.predict(test_X)"
   ]
  },
  {
   "cell_type": "code",
   "execution_count": 109,
   "id": "1b2e494b",
   "metadata": {},
   "outputs": [
    {
     "data": {
      "text/plain": [
       "0.8095238095238095"
      ]
     },
     "execution_count": 109,
     "metadata": {},
     "output_type": "execute_result"
    }
   ],
   "source": [
    "metrics.accuracy_score(test_y,pred_y_RF2)"
   ]
  },
  {
   "cell_type": "code",
   "execution_count": 110,
   "id": "0fdf997e",
   "metadata": {},
   "outputs": [
    {
     "data": {
      "text/plain": [
       "0.7781803542673108"
      ]
     },
     "execution_count": 110,
     "metadata": {},
     "output_type": "execute_result"
    }
   ],
   "source": [
    "auc = metrics.roc_auc_score(test_y,model_RF2.predict_proba(test_X)[:,1]) #Predicted probability pertaining to Class 1.\n",
    "auc"
   ]
  },
  {
   "cell_type": "code",
   "execution_count": 111,
   "id": "9533b8be",
   "metadata": {},
   "outputs": [
    {
     "name": "stdout",
     "output_type": "stream",
     "text": [
      "f1_score: 0.8701298701298701\n",
      "precision_score: 0.788235294117647\n",
      "recall: 0.9710144927536232\n"
     ]
    }
   ],
   "source": [
    "print('f1_score:', f1_score(test_y,pred_y_RF2))\n",
    "print('precision_score:',precision_score(test_y,pred_y_RF2))\n",
    "print('recall:',recall_score(test_y,pred_y_RF2))"
   ]
  },
  {
   "cell_type": "code",
   "execution_count": 112,
   "id": "acedf7d8",
   "metadata": {},
   "outputs": [],
   "source": [
    "dict_1 = {'Model_Algo':'RF with GridSearch','Accuracy':81,'AUC':0.78,'f1_score':0.87,'precision':0.79,'recall':0.97}\n",
    "df_metrics=df_metrics.append(dict_1,ignore_index=True)"
   ]
  },
  {
   "cell_type": "markdown",
   "id": "4d01afe0",
   "metadata": {},
   "source": [
    "## Evaluation metrics of Random Forest after getting best param using GridSearchCV\n",
    "- Accuracy = 81%\n",
    "- AUC = 0.78"
   ]
  },
  {
   "cell_type": "markdown",
   "id": "ea369e11",
   "metadata": {},
   "source": [
    "## Evaluation metrics : Comparison of different models"
   ]
  },
  {
   "cell_type": "code",
   "execution_count": 113,
   "id": "c9fa36f3",
   "metadata": {},
   "outputs": [
    {
     "data": {
      "text/html": [
       "<div>\n",
       "<style scoped>\n",
       "    .dataframe tbody tr th:only-of-type {\n",
       "        vertical-align: middle;\n",
       "    }\n",
       "\n",
       "    .dataframe tbody tr th {\n",
       "        vertical-align: top;\n",
       "    }\n",
       "\n",
       "    .dataframe thead th {\n",
       "        text-align: right;\n",
       "    }\n",
       "</style>\n",
       "<table border=\"1\" class=\"dataframe\">\n",
       "  <thead>\n",
       "    <tr style=\"text-align: right;\">\n",
       "      <th></th>\n",
       "      <th>Model_Algo</th>\n",
       "      <th>Accuracy</th>\n",
       "      <th>AUC</th>\n",
       "      <th>f1_score</th>\n",
       "      <th>precision</th>\n",
       "      <th>recall</th>\n",
       "    </tr>\n",
       "  </thead>\n",
       "  <tbody>\n",
       "    <tr>\n",
       "      <th>1</th>\n",
       "      <td>Logistic Regression with Reg</td>\n",
       "      <td>82.00</td>\n",
       "      <td>0.81</td>\n",
       "      <td>0.88</td>\n",
       "      <td>0.78</td>\n",
       "      <td>1.00</td>\n",
       "    </tr>\n",
       "    <tr>\n",
       "      <th>7</th>\n",
       "      <td>RF with GridSearch</td>\n",
       "      <td>81.00</td>\n",
       "      <td>0.78</td>\n",
       "      <td>0.87</td>\n",
       "      <td>0.79</td>\n",
       "      <td>0.97</td>\n",
       "    </tr>\n",
       "    <tr>\n",
       "      <th>5</th>\n",
       "      <td>KNN with GridSearch</td>\n",
       "      <td>80.00</td>\n",
       "      <td>0.73</td>\n",
       "      <td>0.87</td>\n",
       "      <td>0.77</td>\n",
       "      <td>0.98</td>\n",
       "    </tr>\n",
       "    <tr>\n",
       "      <th>6</th>\n",
       "      <td>RF</td>\n",
       "      <td>80.00</td>\n",
       "      <td>0.82</td>\n",
       "      <td>0.86</td>\n",
       "      <td>0.77</td>\n",
       "      <td>0.97</td>\n",
       "    </tr>\n",
       "    <tr>\n",
       "      <th>4</th>\n",
       "      <td>KNN</td>\n",
       "      <td>79.04</td>\n",
       "      <td>0.72</td>\n",
       "      <td>0.85</td>\n",
       "      <td>0.77</td>\n",
       "      <td>0.96</td>\n",
       "    </tr>\n",
       "    <tr>\n",
       "      <th>3</th>\n",
       "      <td>SVM with GridSearch</td>\n",
       "      <td>66.00</td>\n",
       "      <td>0.77</td>\n",
       "      <td>0.79</td>\n",
       "      <td>0.65</td>\n",
       "      <td>1.00</td>\n",
       "    </tr>\n",
       "    <tr>\n",
       "      <th>2</th>\n",
       "      <td>SVM</td>\n",
       "      <td>66.00</td>\n",
       "      <td>0.75</td>\n",
       "      <td>0.79</td>\n",
       "      <td>0.65</td>\n",
       "      <td>1.00</td>\n",
       "    </tr>\n",
       "    <tr>\n",
       "      <th>0</th>\n",
       "      <td>Logistic Regression</td>\n",
       "      <td>65.71</td>\n",
       "      <td>0.41</td>\n",
       "      <td>0.79</td>\n",
       "      <td>0.66</td>\n",
       "      <td>1.00</td>\n",
       "    </tr>\n",
       "  </tbody>\n",
       "</table>\n",
       "</div>"
      ],
      "text/plain": [
       "                     Model_Algo  Accuracy   AUC  f1_score  precision  recall\n",
       "1  Logistic Regression with Reg     82.00  0.81      0.88       0.78    1.00\n",
       "7            RF with GridSearch     81.00  0.78      0.87       0.79    0.97\n",
       "5           KNN with GridSearch     80.00  0.73      0.87       0.77    0.98\n",
       "6                            RF     80.00  0.82      0.86       0.77    0.97\n",
       "4                           KNN     79.04  0.72      0.85       0.77    0.96\n",
       "3           SVM with GridSearch     66.00  0.77      0.79       0.65    1.00\n",
       "2                           SVM     66.00  0.75      0.79       0.65    1.00\n",
       "0           Logistic Regression     65.71  0.41      0.79       0.66    1.00"
      ]
     },
     "execution_count": 113,
     "metadata": {},
     "output_type": "execute_result"
    }
   ],
   "source": [
    "df_metrics.sort_values(by=['Accuracy','f1_score','precision','recall','AUC'], ascending=False)\n"
   ]
  },
  {
   "cell_type": "markdown",
   "id": "ca021005",
   "metadata": {},
   "source": [
    "## Plotting AUC curve for different models"
   ]
  },
  {
   "cell_type": "code",
   "execution_count": 114,
   "id": "8106b0ca",
   "metadata": {},
   "outputs": [
    {
     "data": {
      "image/png": "[encoded data removed]",
      "text/plain": [
       "<Figure size 800x480 with 1 Axes>"
      ]
     },
     "metadata": {
      "needs_background": "light"
     },
     "output_type": "display_data"
    }
   ],
   "source": [
    "fpr1,tpr1,thresholds1 = metrics.roc_curve(test_y,model_LR.predict_proba(X_test)[:,1])\n",
    "fpr2,tpr2,thresholds2 = metrics.roc_curve(test_y,model_LR2.predict_proba(X_test)[:,1])\n",
    "fpr3,tpr3,thresholds3 = metrics.roc_curve(test_y,model_svc.predict_proba(X_test)[:,1])\n",
    "fpr4,tpr4,thresholds4 = metrics.roc_curve(test_y,model_svc2.predict_proba(X_test)[:,1])\n",
    "fpr5,tpr5,thresholds5 = metrics.roc_curve(test_y,model_knn.predict_proba(X_test)[:,1])\n",
    "fpr6,tpr6,thresholds6 = metrics.roc_curve(test_y,model_knn2.predict_proba(X_test)[:,1])\n",
    "fpr7,tpr7,thresholds7 = metrics.roc_curve(test_y,model_RF.predict_proba(X_test)[:,1])\n",
    "fpr8,tpr8,thresholds8 = metrics.roc_curve(test_y,model_RF2.predict_proba(X_test)[:,1])\n",
    "\n",
    "plt.figure(figsize=(10, 6), dpi=80)\n",
    "plt.plot(fpr1, tpr1, linestyle='--',color='orange', label='LR')\n",
    "plt.plot(fpr2, tpr2, linestyle='--',color='green', label='LR_with_reg')\n",
    "plt.plot(fpr3, tpr3, linestyle='--',color='blue', label='svm')\n",
    "plt.plot(fpr4, tpr4, linestyle='--',color='black', label='svm_best_param')\n",
    "plt.plot(fpr5, tpr5, linestyle='--',color='purple', label='knn')\n",
    "plt.plot(fpr6, tpr6, linestyle='--',color='pink', label='knn_best_param')\n",
    "plt.plot(fpr7, tpr7, linestyle='--',color='brown', label='RF')\n",
    "plt.plot(fpr8, tpr8, linestyle='--',color='gray', label='RF_best_param')\n",
    "\n",
    "plt.title('ROC curve')\n",
    "# x label\n",
    "plt.xlabel('False Positive Rate')\n",
    "# y label\n",
    "plt.ylabel('True Positive rate')\n",
    "plt.legend()\n",
    "plt.show();\n",
    "\n"
   ]
  },
  {
   "cell_type": "markdown",
   "id": "dfee4507",
   "metadata": {},
   "source": [
    "# Based on the evaluation metrics, recommendation is to make use of:\n",
    "- Logistic Regression with Regularization\n",
    "- Random Forest with GridSearch"
   ]
  },
  {
   "cell_type": "markdown",
   "id": "bb4b66ea",
   "metadata": {},
   "source": [
    "## Test Model with unseen data"
   ]
  },
  {
   "cell_type": "code",
   "execution_count": 115,
   "id": "0e5c94c7",
   "metadata": {},
   "outputs": [],
   "source": [
    "## Test with the new data\n",
    "df_test = pd.read_excel('consumer creditworthiness test data.xlsx')"
   ]
  },
  {
   "cell_type": "code",
   "execution_count": 116,
   "id": "1982b2b0",
   "metadata": {},
   "outputs": [
    {
     "data": {
      "text/html": [
       "<div>\n",
       "<style scoped>\n",
       "    .dataframe tbody tr th:only-of-type {\n",
       "        vertical-align: middle;\n",
       "    }\n",
       "\n",
       "    .dataframe tbody tr th {\n",
       "        vertical-align: top;\n",
       "    }\n",
       "\n",
       "    .dataframe thead th {\n",
       "        text-align: right;\n",
       "    }\n",
       "</style>\n",
       "<table border=\"1\" class=\"dataframe\">\n",
       "  <thead>\n",
       "    <tr style=\"text-align: right;\">\n",
       "      <th></th>\n",
       "      <th>Loan_ID</th>\n",
       "      <th>Gender</th>\n",
       "      <th>Married</th>\n",
       "      <th>Dependents</th>\n",
       "      <th>Education</th>\n",
       "      <th>Self_Employed</th>\n",
       "      <th>ApplicantIncome</th>\n",
       "      <th>CoapplicantIncome</th>\n",
       "      <th>LoanAmount</th>\n",
       "      <th>Loan_Amount_Term</th>\n",
       "      <th>Credit_History</th>\n",
       "      <th>Property_Area</th>\n",
       "    </tr>\n",
       "  </thead>\n",
       "  <tbody>\n",
       "    <tr>\n",
       "      <th>0</th>\n",
       "      <td>788264</td>\n",
       "      <td>Male</td>\n",
       "      <td>No</td>\n",
       "      <td>0</td>\n",
       "      <td>Graduate</td>\n",
       "      <td>No</td>\n",
       "      <td>562500</td>\n",
       "      <td>0</td>\n",
       "      <td>110000</td>\n",
       "      <td>360</td>\n",
       "      <td>1.0</td>\n",
       "      <td>Semiurban</td>\n",
       "    </tr>\n",
       "    <tr>\n",
       "      <th>1</th>\n",
       "      <td>431937</td>\n",
       "      <td>Male</td>\n",
       "      <td>Yes</td>\n",
       "      <td>3+</td>\n",
       "      <td>Graduate</td>\n",
       "      <td>Yes</td>\n",
       "      <td>1277325</td>\n",
       "      <td>320400</td>\n",
       "      <td>200000</td>\n",
       "      <td>360</td>\n",
       "      <td>1.0</td>\n",
       "      <td>Rural</td>\n",
       "    </tr>\n",
       "    <tr>\n",
       "      <th>2</th>\n",
       "      <td>425437</td>\n",
       "      <td>Male</td>\n",
       "      <td>Yes</td>\n",
       "      <td>2</td>\n",
       "      <td>Graduate</td>\n",
       "      <td>Yes</td>\n",
       "      <td>1788300</td>\n",
       "      <td>1612350</td>\n",
       "      <td>960000</td>\n",
       "      <td>360</td>\n",
       "      <td>1.0</td>\n",
       "      <td>Rural</td>\n",
       "    </tr>\n",
       "    <tr>\n",
       "      <th>3</th>\n",
       "      <td>938101</td>\n",
       "      <td>Male</td>\n",
       "      <td>No</td>\n",
       "      <td>0</td>\n",
       "      <td>Graduate</td>\n",
       "      <td>No</td>\n",
       "      <td>1053000</td>\n",
       "      <td>469575</td>\n",
       "      <td>0</td>\n",
       "      <td>360</td>\n",
       "      <td>1.0</td>\n",
       "      <td>Semiurban</td>\n",
       "    </tr>\n",
       "    <tr>\n",
       "      <th>4</th>\n",
       "      <td>180559</td>\n",
       "      <td>Male</td>\n",
       "      <td>Yes</td>\n",
       "      <td>2</td>\n",
       "      <td>Graduate</td>\n",
       "      <td>Yes</td>\n",
       "      <td>3937500</td>\n",
       "      <td>0</td>\n",
       "      <td>800000</td>\n",
       "      <td>360</td>\n",
       "      <td>1.0</td>\n",
       "      <td>Rural</td>\n",
       "    </tr>\n",
       "  </tbody>\n",
       "</table>\n",
       "</div>"
      ],
      "text/plain": [
       "   Loan_ID Gender Married Dependents Education Self_Employed  ApplicantIncome  \\\n",
       "0   788264   Male      No          0  Graduate            No           562500   \n",
       "1   431937   Male     Yes         3+  Graduate           Yes          1277325   \n",
       "2   425437   Male     Yes          2  Graduate           Yes          1788300   \n",
       "3   938101   Male      No          0  Graduate            No          1053000   \n",
       "4   180559   Male     Yes          2  Graduate           Yes          3937500   \n",
       "\n",
       "   CoapplicantIncome  LoanAmount  Loan_Amount_Term  Credit_History  \\\n",
       "0                  0      110000               360             1.0   \n",
       "1             320400      200000               360             1.0   \n",
       "2            1612350      960000               360             1.0   \n",
       "3             469575           0               360             1.0   \n",
       "4                  0      800000               360             1.0   \n",
       "\n",
       "  Property_Area  \n",
       "0     Semiurban  \n",
       "1         Rural  \n",
       "2         Rural  \n",
       "3     Semiurban  \n",
       "4         Rural  "
      ]
     },
     "execution_count": 116,
     "metadata": {},
     "output_type": "execute_result"
    }
   ],
   "source": [
    "df_test.head()"
   ]
  },
  {
   "cell_type": "markdown",
   "id": "1df38bcd",
   "metadata": {},
   "source": [
    "## Feature engineering on unseen data so that it can be feed to model for prediction"
   ]
  },
  {
   "cell_type": "code",
   "execution_count": 117,
   "id": "50e371a1",
   "metadata": {},
   "outputs": [
    {
     "data": {
      "text/plain": [
       "Credit_History       7\n",
       "Self_Employed        5\n",
       "Gender               3\n",
       "Dependents           2\n",
       "Loan_ID              0\n",
       "Married              0\n",
       "Education            0\n",
       "ApplicantIncome      0\n",
       "CoapplicantIncome    0\n",
       "LoanAmount           0\n",
       "Loan_Amount_Term     0\n",
       "Property_Area        0\n",
       "dtype: int64"
      ]
     },
     "execution_count": 117,
     "metadata": {},
     "output_type": "execute_result"
    }
   ],
   "source": [
    "df_test.isna().sum().sort_values(ascending=False)"
   ]
  },
  {
   "cell_type": "code",
   "execution_count": 118,
   "id": "fd75c1ad",
   "metadata": {},
   "outputs": [],
   "source": [
    "## Treat Null values\n",
    "#Even though it is float type. It has only 2 values.\n",
    "df_test['Credit_History'].fillna(df_test['Credit_History'].mode()[0],inplace=True) \n",
    "df_test['Self_Employed'].fillna(df_test['Self_Employed'].mode()[0],inplace=True)\n",
    "#Mean value is a float value which cannot be true for Loan Term. If we check mode value, it is 360. \n",
    "#We can either use mode value to replace null values or median value as it is a float datatype.\n",
    "df_test['Loan_Amount_Term'].fillna(np.nanmedian(df_test['Loan_Amount_Term']),inplace=True) \n",
    "#categorical feature. Using mode value to replace null values\n",
    "df_test['Dependents'].fillna(df_test['Dependents'].mode()[0],inplace=True)\n",
    "df_test['Gender'].fillna(df_test['Gender'].mode()[0],inplace=True)\n",
    "df_test['Married'].fillna(df_test['Married'].mode()[0],inplace=True)"
   ]
  },
  {
   "cell_type": "code",
   "execution_count": 119,
   "id": "7026d637",
   "metadata": {},
   "outputs": [
    {
     "data": {
      "text/plain": [
       "Loan_ID              0\n",
       "Gender               0\n",
       "Married              0\n",
       "Dependents           0\n",
       "Education            0\n",
       "Self_Employed        0\n",
       "ApplicantIncome      0\n",
       "CoapplicantIncome    0\n",
       "LoanAmount           0\n",
       "Loan_Amount_Term     0\n",
       "Credit_History       0\n",
       "Property_Area        0\n",
       "dtype: int64"
      ]
     },
     "execution_count": 119,
     "metadata": {},
     "output_type": "execute_result"
    }
   ],
   "source": [
    "df_test.isna().sum().sort_values(ascending=False)"
   ]
  },
  {
   "cell_type": "code",
   "execution_count": 120,
   "id": "cee8ee2d",
   "metadata": {},
   "outputs": [],
   "source": [
    "#Total income\n",
    "df_test['TotalIncome'] = df_test['ApplicantIncome'] + df_test['CoapplicantIncome']\n",
    "df_test['EMI'] = emi(df_test['LoanAmount'], 9,df_test['Loan_Amount_Term'] )\n",
    "#Balance Income\n",
    "df_test['BalanceIncome'] = df_test['TotalIncome'] - df_test['EMI']"
   ]
  },
  {
   "cell_type": "code",
   "execution_count": 121,
   "id": "737fb2fe",
   "metadata": {},
   "outputs": [],
   "source": [
    "df_test.drop('Loan_ID',axis=1,inplace=True)\n",
    "df_test.drop('ApplicantIncome',axis=1,inplace=True) #As we already have total income now\n",
    "df_test.drop('CoapplicantIncome',axis=1,inplace=True) #As we already have total income now"
   ]
  },
  {
   "cell_type": "code",
   "execution_count": 122,
   "id": "2166808f",
   "metadata": {},
   "outputs": [
    {
     "data": {
      "text/plain": [
       "Index(['Gender', 'Married', 'Dependents', 'Education', 'Self_Employed',\n",
       "       'LoanAmount', 'Loan_Amount_Term', 'Credit_History', 'Property_Area',\n",
       "       'TotalIncome', 'EMI', 'BalanceIncome'],\n",
       "      dtype='object')"
      ]
     },
     "execution_count": 122,
     "metadata": {},
     "output_type": "execute_result"
    }
   ],
   "source": [
    "df_test.columns"
   ]
  },
  {
   "cell_type": "code",
   "execution_count": 123,
   "id": "c46956b8",
   "metadata": {},
   "outputs": [],
   "source": [
    "char_test = df_test.select_dtypes(include='object')"
   ]
  },
  {
   "cell_type": "code",
   "execution_count": 124,
   "id": "b1e39122",
   "metadata": {},
   "outputs": [
    {
     "name": "stdout",
     "output_type": "stream",
     "text": [
      "<class 'pandas.core.frame.DataFrame'>\n",
      "RangeIndex: 93 entries, 0 to 92\n",
      "Data columns (total 6 columns):\n",
      " #   Column         Non-Null Count  Dtype \n",
      "---  ------         --------------  ----- \n",
      " 0   Gender         93 non-null     object\n",
      " 1   Married        93 non-null     object\n",
      " 2   Dependents     93 non-null     object\n",
      " 3   Education      93 non-null     object\n",
      " 4   Self_Employed  93 non-null     object\n",
      " 5   Property_Area  93 non-null     object\n",
      "dtypes: object(6)\n",
      "memory usage: 4.5+ KB\n"
     ]
    }
   ],
   "source": [
    "char_test.info()"
   ]
  },
  {
   "cell_type": "code",
   "execution_count": 125,
   "id": "361d8912",
   "metadata": {},
   "outputs": [],
   "source": [
    "df_test.drop(char_test.columns,axis=1, inplace=True)\n",
    "char_test.drop(['Gender','Dependents','Self_Employed'],axis=1, inplace=True)"
   ]
  },
  {
   "cell_type": "code",
   "execution_count": 126,
   "id": "f506dea8",
   "metadata": {
    "scrolled": true
   },
   "outputs": [
    {
     "data": {
      "text/html": [
       "<div>\n",
       "<style scoped>\n",
       "    .dataframe tbody tr th:only-of-type {\n",
       "        vertical-align: middle;\n",
       "    }\n",
       "\n",
       "    .dataframe tbody tr th {\n",
       "        vertical-align: top;\n",
       "    }\n",
       "\n",
       "    .dataframe thead th {\n",
       "        text-align: right;\n",
       "    }\n",
       "</style>\n",
       "<table border=\"1\" class=\"dataframe\">\n",
       "  <thead>\n",
       "    <tr style=\"text-align: right;\">\n",
       "      <th></th>\n",
       "      <th>Married_Yes</th>\n",
       "      <th>Education_Not Graduate</th>\n",
       "      <th>Property_Area_Semiurban</th>\n",
       "      <th>Property_Area_Urban</th>\n",
       "    </tr>\n",
       "  </thead>\n",
       "  <tbody>\n",
       "    <tr>\n",
       "      <th>0</th>\n",
       "      <td>0</td>\n",
       "      <td>0</td>\n",
       "      <td>1</td>\n",
       "      <td>0</td>\n",
       "    </tr>\n",
       "    <tr>\n",
       "      <th>1</th>\n",
       "      <td>1</td>\n",
       "      <td>0</td>\n",
       "      <td>0</td>\n",
       "      <td>0</td>\n",
       "    </tr>\n",
       "    <tr>\n",
       "      <th>2</th>\n",
       "      <td>1</td>\n",
       "      <td>0</td>\n",
       "      <td>0</td>\n",
       "      <td>0</td>\n",
       "    </tr>\n",
       "    <tr>\n",
       "      <th>3</th>\n",
       "      <td>0</td>\n",
       "      <td>0</td>\n",
       "      <td>1</td>\n",
       "      <td>0</td>\n",
       "    </tr>\n",
       "    <tr>\n",
       "      <th>4</th>\n",
       "      <td>1</td>\n",
       "      <td>0</td>\n",
       "      <td>0</td>\n",
       "      <td>0</td>\n",
       "    </tr>\n",
       "    <tr>\n",
       "      <th>...</th>\n",
       "      <td>...</td>\n",
       "      <td>...</td>\n",
       "      <td>...</td>\n",
       "      <td>...</td>\n",
       "    </tr>\n",
       "    <tr>\n",
       "      <th>88</th>\n",
       "      <td>0</td>\n",
       "      <td>0</td>\n",
       "      <td>0</td>\n",
       "      <td>0</td>\n",
       "    </tr>\n",
       "    <tr>\n",
       "      <th>89</th>\n",
       "      <td>1</td>\n",
       "      <td>0</td>\n",
       "      <td>0</td>\n",
       "      <td>0</td>\n",
       "    </tr>\n",
       "    <tr>\n",
       "      <th>90</th>\n",
       "      <td>1</td>\n",
       "      <td>0</td>\n",
       "      <td>0</td>\n",
       "      <td>1</td>\n",
       "    </tr>\n",
       "    <tr>\n",
       "      <th>91</th>\n",
       "      <td>1</td>\n",
       "      <td>0</td>\n",
       "      <td>0</td>\n",
       "      <td>1</td>\n",
       "    </tr>\n",
       "    <tr>\n",
       "      <th>92</th>\n",
       "      <td>0</td>\n",
       "      <td>0</td>\n",
       "      <td>1</td>\n",
       "      <td>0</td>\n",
       "    </tr>\n",
       "  </tbody>\n",
       "</table>\n",
       "<p>93 rows × 4 columns</p>\n",
       "</div>"
      ],
      "text/plain": [
       "    Married_Yes  Education_Not Graduate  Property_Area_Semiurban  \\\n",
       "0             0                       0                        1   \n",
       "1             1                       0                        0   \n",
       "2             1                       0                        0   \n",
       "3             0                       0                        1   \n",
       "4             1                       0                        0   \n",
       "..          ...                     ...                      ...   \n",
       "88            0                       0                        0   \n",
       "89            1                       0                        0   \n",
       "90            1                       0                        0   \n",
       "91            1                       0                        0   \n",
       "92            0                       0                        1   \n",
       "\n",
       "    Property_Area_Urban  \n",
       "0                     0  \n",
       "1                     0  \n",
       "2                     0  \n",
       "3                     0  \n",
       "4                     0  \n",
       "..                  ...  \n",
       "88                    0  \n",
       "89                    0  \n",
       "90                    1  \n",
       "91                    1  \n",
       "92                    0  \n",
       "\n",
       "[93 rows x 4 columns]"
      ]
     },
     "execution_count": 126,
     "metadata": {},
     "output_type": "execute_result"
    }
   ],
   "source": [
    "encoded_df_test = pd.get_dummies(char_test,drop_first=True)\n",
    "encoded_df_test"
   ]
  },
  {
   "cell_type": "code",
   "execution_count": 127,
   "id": "3bb6364a",
   "metadata": {
    "scrolled": true
   },
   "outputs": [
    {
     "data": {
      "text/html": [
       "<div>\n",
       "<style scoped>\n",
       "    .dataframe tbody tr th:only-of-type {\n",
       "        vertical-align: middle;\n",
       "    }\n",
       "\n",
       "    .dataframe tbody tr th {\n",
       "        vertical-align: top;\n",
       "    }\n",
       "\n",
       "    .dataframe thead th {\n",
       "        text-align: right;\n",
       "    }\n",
       "</style>\n",
       "<table border=\"1\" class=\"dataframe\">\n",
       "  <thead>\n",
       "    <tr style=\"text-align: right;\">\n",
       "      <th></th>\n",
       "      <th>LoanAmount</th>\n",
       "      <th>Loan_Amount_Term</th>\n",
       "      <th>Credit_History</th>\n",
       "      <th>TotalIncome</th>\n",
       "      <th>EMI</th>\n",
       "      <th>BalanceIncome</th>\n",
       "      <th>Married_Yes</th>\n",
       "      <th>Education_Not Graduate</th>\n",
       "      <th>Property_Area_Semiurban</th>\n",
       "      <th>Property_Area_Urban</th>\n",
       "    </tr>\n",
       "  </thead>\n",
       "  <tbody>\n",
       "    <tr>\n",
       "      <th>0</th>\n",
       "      <td>110000</td>\n",
       "      <td>360</td>\n",
       "      <td>1.0</td>\n",
       "      <td>562500</td>\n",
       "      <td>885.084879</td>\n",
       "      <td>5.616149e+05</td>\n",
       "      <td>0</td>\n",
       "      <td>0</td>\n",
       "      <td>1</td>\n",
       "      <td>0</td>\n",
       "    </tr>\n",
       "    <tr>\n",
       "      <th>1</th>\n",
       "      <td>200000</td>\n",
       "      <td>360</td>\n",
       "      <td>1.0</td>\n",
       "      <td>1597725</td>\n",
       "      <td>1609.245234</td>\n",
       "      <td>1.596116e+06</td>\n",
       "      <td>1</td>\n",
       "      <td>0</td>\n",
       "      <td>0</td>\n",
       "      <td>0</td>\n",
       "    </tr>\n",
       "    <tr>\n",
       "      <th>2</th>\n",
       "      <td>960000</td>\n",
       "      <td>360</td>\n",
       "      <td>1.0</td>\n",
       "      <td>3400650</td>\n",
       "      <td>7724.377123</td>\n",
       "      <td>3.392926e+06</td>\n",
       "      <td>1</td>\n",
       "      <td>0</td>\n",
       "      <td>0</td>\n",
       "      <td>0</td>\n",
       "    </tr>\n",
       "    <tr>\n",
       "      <th>3</th>\n",
       "      <td>0</td>\n",
       "      <td>360</td>\n",
       "      <td>1.0</td>\n",
       "      <td>1522575</td>\n",
       "      <td>0.000000</td>\n",
       "      <td>1.522575e+06</td>\n",
       "      <td>0</td>\n",
       "      <td>0</td>\n",
       "      <td>1</td>\n",
       "      <td>0</td>\n",
       "    </tr>\n",
       "    <tr>\n",
       "      <th>4</th>\n",
       "      <td>800000</td>\n",
       "      <td>360</td>\n",
       "      <td>1.0</td>\n",
       "      <td>3937500</td>\n",
       "      <td>6436.980936</td>\n",
       "      <td>3.931063e+06</td>\n",
       "      <td>1</td>\n",
       "      <td>0</td>\n",
       "      <td>0</td>\n",
       "      <td>0</td>\n",
       "    </tr>\n",
       "    <tr>\n",
       "      <th>...</th>\n",
       "      <td>...</td>\n",
       "      <td>...</td>\n",
       "      <td>...</td>\n",
       "      <td>...</td>\n",
       "      <td>...</td>\n",
       "      <td>...</td>\n",
       "      <td>...</td>\n",
       "      <td>...</td>\n",
       "      <td>...</td>\n",
       "      <td>...</td>\n",
       "    </tr>\n",
       "    <tr>\n",
       "      <th>88</th>\n",
       "      <td>142000</td>\n",
       "      <td>360</td>\n",
       "      <td>1.0</td>\n",
       "      <td>652500</td>\n",
       "      <td>1142.564116</td>\n",
       "      <td>6.513574e+05</td>\n",
       "      <td>0</td>\n",
       "      <td>0</td>\n",
       "      <td>0</td>\n",
       "      <td>0</td>\n",
       "    </tr>\n",
       "    <tr>\n",
       "      <th>89</th>\n",
       "      <td>80000</td>\n",
       "      <td>180</td>\n",
       "      <td>1.0</td>\n",
       "      <td>923850</td>\n",
       "      <td>811.413267</td>\n",
       "      <td>9.230386e+05</td>\n",
       "      <td>1</td>\n",
       "      <td>0</td>\n",
       "      <td>0</td>\n",
       "      <td>0</td>\n",
       "    </tr>\n",
       "    <tr>\n",
       "      <th>90</th>\n",
       "      <td>506000</td>\n",
       "      <td>360</td>\n",
       "      <td>1.0</td>\n",
       "      <td>1870200</td>\n",
       "      <td>4071.390442</td>\n",
       "      <td>1.866129e+06</td>\n",
       "      <td>1</td>\n",
       "      <td>0</td>\n",
       "      <td>0</td>\n",
       "      <td>1</td>\n",
       "    </tr>\n",
       "    <tr>\n",
       "      <th>91</th>\n",
       "      <td>374000</td>\n",
       "      <td>360</td>\n",
       "      <td>1.0</td>\n",
       "      <td>1706175</td>\n",
       "      <td>3009.288587</td>\n",
       "      <td>1.703166e+06</td>\n",
       "      <td>1</td>\n",
       "      <td>0</td>\n",
       "      <td>0</td>\n",
       "      <td>1</td>\n",
       "    </tr>\n",
       "    <tr>\n",
       "      <th>92</th>\n",
       "      <td>266000</td>\n",
       "      <td>360</td>\n",
       "      <td>0.0</td>\n",
       "      <td>1031175</td>\n",
       "      <td>2140.296161</td>\n",
       "      <td>1.029035e+06</td>\n",
       "      <td>0</td>\n",
       "      <td>0</td>\n",
       "      <td>1</td>\n",
       "      <td>0</td>\n",
       "    </tr>\n",
       "  </tbody>\n",
       "</table>\n",
       "<p>93 rows × 10 columns</p>\n",
       "</div>"
      ],
      "text/plain": [
       "    LoanAmount  Loan_Amount_Term  Credit_History  TotalIncome          EMI  \\\n",
       "0       110000               360             1.0       562500   885.084879   \n",
       "1       200000               360             1.0      1597725  1609.245234   \n",
       "2       960000               360             1.0      3400650  7724.377123   \n",
       "3            0               360             1.0      1522575     0.000000   \n",
       "4       800000               360             1.0      3937500  6436.980936   \n",
       "..         ...               ...             ...          ...          ...   \n",
       "88      142000               360             1.0       652500  1142.564116   \n",
       "89       80000               180             1.0       923850   811.413267   \n",
       "90      506000               360             1.0      1870200  4071.390442   \n",
       "91      374000               360             1.0      1706175  3009.288587   \n",
       "92      266000               360             0.0      1031175  2140.296161   \n",
       "\n",
       "    BalanceIncome  Married_Yes  Education_Not Graduate  \\\n",
       "0    5.616149e+05            0                       0   \n",
       "1    1.596116e+06            1                       0   \n",
       "2    3.392926e+06            1                       0   \n",
       "3    1.522575e+06            0                       0   \n",
       "4    3.931063e+06            1                       0   \n",
       "..            ...          ...                     ...   \n",
       "88   6.513574e+05            0                       0   \n",
       "89   9.230386e+05            1                       0   \n",
       "90   1.866129e+06            1                       0   \n",
       "91   1.703166e+06            1                       0   \n",
       "92   1.029035e+06            0                       0   \n",
       "\n",
       "    Property_Area_Semiurban  Property_Area_Urban  \n",
       "0                         1                    0  \n",
       "1                         0                    0  \n",
       "2                         0                    0  \n",
       "3                         1                    0  \n",
       "4                         0                    0  \n",
       "..                      ...                  ...  \n",
       "88                        0                    0  \n",
       "89                        0                    0  \n",
       "90                        0                    1  \n",
       "91                        0                    1  \n",
       "92                        1                    0  \n",
       "\n",
       "[93 rows x 10 columns]"
      ]
     },
     "execution_count": 127,
     "metadata": {},
     "output_type": "execute_result"
    }
   ],
   "source": [
    "concat_encoded_df_test = pd.concat([df_test,encoded_df_test],axis=1)\n",
    "concat_encoded_df_test"
   ]
  },
  {
   "cell_type": "markdown",
   "id": "eb48f367",
   "metadata": {},
   "source": [
    "## Pedicting Loan Status using Logistic Regression with regularization"
   ]
  },
  {
   "cell_type": "code",
   "execution_count": 128,
   "id": "d4c4f9c8",
   "metadata": {},
   "outputs": [],
   "source": [
    "pred_y3 = model_LR2.predict(concat_encoded_df_test)"
   ]
  },
  {
   "cell_type": "code",
   "execution_count": 129,
   "id": "baa344df",
   "metadata": {},
   "outputs": [
    {
     "data": {
      "text/plain": [
       "array([1, 1, 1, 1, 1, 1, 0, 1, 1, 1, 1, 0, 1, 1, 1, 1, 1, 1, 1, 1, 0, 1,\n",
       "       1, 1, 1, 1, 1, 0, 1, 0, 1, 1, 0, 0, 1, 1, 1, 1, 1, 1, 1, 1, 1, 0,\n",
       "       1, 1, 0, 1, 0, 1, 0, 1, 1, 1, 1, 0, 1, 1, 1, 1, 1, 1, 1, 0, 1, 1,\n",
       "       1, 1, 0, 1, 1, 1, 1, 1, 1, 1, 0, 1, 1, 1, 1, 1, 1, 1, 1, 1, 1, 1,\n",
       "       1, 1, 1, 1, 0])"
      ]
     },
     "execution_count": 129,
     "metadata": {},
     "output_type": "execute_result"
    }
   ],
   "source": [
    "pred_y3"
   ]
  },
  {
   "cell_type": "code",
   "execution_count": 132,
   "id": "81af023e",
   "metadata": {},
   "outputs": [],
   "source": [
    "d = build_df(pred_y3)\n",
    "d.to_excel('Logistic_Reg_with_regularization.xlsx', index=False)"
   ]
  },
  {
   "cell_type": "markdown",
   "id": "bac58bca",
   "metadata": {},
   "source": [
    "## Pedicting Loan Status using Random Forest with Gridsearch"
   ]
  },
  {
   "cell_type": "code",
   "execution_count": 133,
   "id": "074d45dc",
   "metadata": {},
   "outputs": [],
   "source": [
    "pred_y4 = model_RF2.predict(concat_encoded_df_test)\n",
    "d = build_df(pred_y4)\n",
    "d.to_excel('Random_Forest_with_GridSearch.xlsx',index=False)"
   ]
  }
 ],
 "metadata": {
  "kernelspec": {
   "display_name": "Python 3",
   "language": "python",
   "name": "python3"
  },
  "language_info": {
   "codemirror_mode": {
    "name": "ipython",
    "version": 3
   },
   "file_extension": ".py",
   "mimetype": "text/x-python",
   "name": "python",
   "nbconvert_exporter": "python",
   "pygments_lexer": "ipython3",
   "version": "3.8.8"
  }
 },
 "nbformat": 4,
 "nbformat_minor": 5
}
