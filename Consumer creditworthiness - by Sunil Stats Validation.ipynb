{
 "cells": [
  {
   "cell_type": "markdown",
   "id": "ea7532ca",
   "metadata": {},
   "source": [
    "## Importing necessary libraries"
   ]
  },
  {
   "cell_type": "code",
   "execution_count": 1,
   "id": "35edd27f",
   "metadata": {},
   "outputs": [],
   "source": [
    "import pandas as pd\n",
    "import numpy as np\n",
    "import scipy.stats as stats\n",
    "import matplotlib.pyplot as plt\n",
    "import seaborn as sns\n",
    "import warnings\n",
    "from scipy.stats import chi2_contingency\n",
    "from scipy.stats import f_oneway"
   ]
  },
  {
   "cell_type": "markdown",
   "id": "13de5695",
   "metadata": {},
   "source": [
    "## Data dictionary"
   ]
  },
  {
   "cell_type": "code",
   "execution_count": 2,
   "id": "32d7efc4",
   "metadata": {},
   "outputs": [],
   "source": [
    "# Loan_ID: Unique Loan ID issued on every loan for a applicant, dtype: Object.\n",
    "# Gender: Gender of a applicant whether male or female, dtype: string.\n",
    "# Married: Martial status of a applicant i.e., Yes for married and NO for single, dtype: string.\n",
    "# Dependents: Number of individuals who are financially dependent on applicant, dtype: integer.\n",
    "# Education: Highest Education of applicant i.e, Bachelor, Post Graduation etc, dtype: string.\n",
    "# Self_employed: Whether the applicant is self employed or not i.e, Yes for self employed or else NO, dtype: string.\n",
    "# ApplicantIncome: Income of the applicant, dtype: integer.\n",
    "# CoApplicantIncome: Applicant have to put one nominee name that is called CoApplicant. So, it is column releated to coapplicant income, dtype: Integer.\n",
    "# Loan Amount: Amount of loan applicant wants to issue from the bank.\n",
    "# Loan_Amount_Term: The amount of time the lender gives you to repay your whole loan, dtype: float.\n",
    "# Credit_History: It tells about the credit done in the past by the applicant, dtype: Integer.\n",
    "# Property_Area: This tells about the applicant property is in which area i.e., Rural or Urban, dtype: String.\n",
    "# Loan_status: It is a target variable column which tells about whether the applicant application for loan approval is passed or not, dtype: String.\n"
   ]
  },
  {
   "cell_type": "markdown",
   "id": "e9ac6b47",
   "metadata": {},
   "source": [
    "## Load dataset"
   ]
  },
  {
   "cell_type": "code",
   "execution_count": 3,
   "id": "e9716d31",
   "metadata": {},
   "outputs": [],
   "source": [
    "df_orig = pd.read_excel('Consumer creditworthiness train data.xlsx')"
   ]
  },
  {
   "cell_type": "markdown",
   "id": "9a375f42",
   "metadata": {},
   "source": [
    "## Copy original dataframe to make a working copy"
   ]
  },
  {
   "cell_type": "code",
   "execution_count": 4,
   "id": "27a1088d",
   "metadata": {},
   "outputs": [],
   "source": [
    "df = df_orig.copy()"
   ]
  },
  {
   "cell_type": "markdown",
   "id": "63bbaa28",
   "metadata": {},
   "source": [
    "## View dataset characteristics and data values\n"
   ]
  },
  {
   "cell_type": "code",
   "execution_count": 5,
   "id": "484c0489",
   "metadata": {},
   "outputs": [
    {
     "data": {
      "text/plain": [
       "(521, 13)"
      ]
     },
     "execution_count": 5,
     "metadata": {},
     "output_type": "execute_result"
    }
   ],
   "source": [
    "#No. of rows and columns\n",
    "df_orig.shape"
   ]
  },
  {
   "cell_type": "code",
   "execution_count": 6,
   "id": "d16b8314",
   "metadata": {},
   "outputs": [
    {
     "data": {
      "text/html": [
       "<div>\n",
       "<style scoped>\n",
       "    .dataframe tbody tr th:only-of-type {\n",
       "        vertical-align: middle;\n",
       "    }\n",
       "\n",
       "    .dataframe tbody tr th {\n",
       "        vertical-align: top;\n",
       "    }\n",
       "\n",
       "    .dataframe thead th {\n",
       "        text-align: right;\n",
       "    }\n",
       "</style>\n",
       "<table border=\"1\" class=\"dataframe\">\n",
       "  <thead>\n",
       "    <tr style=\"text-align: right;\">\n",
       "      <th></th>\n",
       "      <th>Loan_ID</th>\n",
       "      <th>Gender</th>\n",
       "      <th>Married</th>\n",
       "      <th>Dependents</th>\n",
       "      <th>Education</th>\n",
       "      <th>Self_Employed</th>\n",
       "      <th>ApplicantIncome</th>\n",
       "      <th>CoapplicantIncome</th>\n",
       "      <th>LoanAmount</th>\n",
       "      <th>Loan_Amount_Term</th>\n",
       "      <th>Credit_History</th>\n",
       "      <th>Property_Area</th>\n",
       "      <th>Loan_Status</th>\n",
       "    </tr>\n",
       "  </thead>\n",
       "  <tbody>\n",
       "    <tr>\n",
       "      <th>0</th>\n",
       "      <td>294853</td>\n",
       "      <td>Male</td>\n",
       "      <td>No</td>\n",
       "      <td>0</td>\n",
       "      <td>Graduate</td>\n",
       "      <td>No</td>\n",
       "      <td>1316025</td>\n",
       "      <td>0.0</td>\n",
       "      <td>250000</td>\n",
       "      <td>360.0</td>\n",
       "      <td>1.0</td>\n",
       "      <td>Urban</td>\n",
       "      <td>Y</td>\n",
       "    </tr>\n",
       "    <tr>\n",
       "      <th>1</th>\n",
       "      <td>162883</td>\n",
       "      <td>Male</td>\n",
       "      <td>Yes</td>\n",
       "      <td>1</td>\n",
       "      <td>Graduate</td>\n",
       "      <td>No</td>\n",
       "      <td>1031175</td>\n",
       "      <td>339300.0</td>\n",
       "      <td>256000</td>\n",
       "      <td>360.0</td>\n",
       "      <td>1.0</td>\n",
       "      <td>Rural</td>\n",
       "      <td>N</td>\n",
       "    </tr>\n",
       "    <tr>\n",
       "      <th>2</th>\n",
       "      <td>620668</td>\n",
       "      <td>Male</td>\n",
       "      <td>Yes</td>\n",
       "      <td>0</td>\n",
       "      <td>Graduate</td>\n",
       "      <td>Yes</td>\n",
       "      <td>675000</td>\n",
       "      <td>0.0</td>\n",
       "      <td>132000</td>\n",
       "      <td>360.0</td>\n",
       "      <td>1.0</td>\n",
       "      <td>Urban</td>\n",
       "      <td>Y</td>\n",
       "    </tr>\n",
       "    <tr>\n",
       "      <th>3</th>\n",
       "      <td>295747</td>\n",
       "      <td>Male</td>\n",
       "      <td>Yes</td>\n",
       "      <td>0</td>\n",
       "      <td>Not Graduate</td>\n",
       "      <td>No</td>\n",
       "      <td>581175</td>\n",
       "      <td>530550.0</td>\n",
       "      <td>240000</td>\n",
       "      <td>360.0</td>\n",
       "      <td>1.0</td>\n",
       "      <td>Urban</td>\n",
       "      <td>Y</td>\n",
       "    </tr>\n",
       "    <tr>\n",
       "      <th>4</th>\n",
       "      <td>133390</td>\n",
       "      <td>Male</td>\n",
       "      <td>No</td>\n",
       "      <td>0</td>\n",
       "      <td>Graduate</td>\n",
       "      <td>No</td>\n",
       "      <td>1350000</td>\n",
       "      <td>0.0</td>\n",
       "      <td>282000</td>\n",
       "      <td>360.0</td>\n",
       "      <td>1.0</td>\n",
       "      <td>Urban</td>\n",
       "      <td>Y</td>\n",
       "    </tr>\n",
       "  </tbody>\n",
       "</table>\n",
       "</div>"
      ],
      "text/plain": [
       "   Loan_ID Gender Married Dependents     Education Self_Employed  \\\n",
       "0   294853   Male      No          0      Graduate            No   \n",
       "1   162883   Male     Yes          1      Graduate            No   \n",
       "2   620668   Male     Yes          0      Graduate           Yes   \n",
       "3   295747   Male     Yes          0  Not Graduate            No   \n",
       "4   133390   Male      No          0      Graduate            No   \n",
       "\n",
       "   ApplicantIncome  CoapplicantIncome  LoanAmount  Loan_Amount_Term  \\\n",
       "0          1316025                0.0      250000             360.0   \n",
       "1          1031175           339300.0      256000             360.0   \n",
       "2           675000                0.0      132000             360.0   \n",
       "3           581175           530550.0      240000             360.0   \n",
       "4          1350000                0.0      282000             360.0   \n",
       "\n",
       "   Credit_History Property_Area Loan_Status  \n",
       "0             1.0         Urban           Y  \n",
       "1             1.0         Rural           N  \n",
       "2             1.0         Urban           Y  \n",
       "3             1.0         Urban           Y  \n",
       "4             1.0         Urban           Y  "
      ]
     },
     "execution_count": 6,
     "metadata": {},
     "output_type": "execute_result"
    }
   ],
   "source": [
    "#View the data\n",
    "df_orig.head()"
   ]
  },
  {
   "cell_type": "code",
   "execution_count": 7,
   "id": "968da193",
   "metadata": {},
   "outputs": [
    {
     "data": {
      "text/plain": [
       "Loan_ID                int64\n",
       "Gender                object\n",
       "Married               object\n",
       "Dependents            object\n",
       "Education             object\n",
       "Self_Employed         object\n",
       "ApplicantIncome        int64\n",
       "CoapplicantIncome    float64\n",
       "LoanAmount             int64\n",
       "Loan_Amount_Term     float64\n",
       "Credit_History       float64\n",
       "Property_Area         object\n",
       "Loan_Status           object\n",
       "dtype: object"
      ]
     },
     "execution_count": 7,
     "metadata": {},
     "output_type": "execute_result"
    }
   ],
   "source": [
    "#Check datatypes of data\n",
    "df_orig.dtypes"
   ]
  },
  {
   "cell_type": "markdown",
   "id": "e5b1a9c5",
   "metadata": {},
   "source": [
    "## Warnings suspension"
   ]
  },
  {
   "cell_type": "code",
   "execution_count": 8,
   "id": "c242a28b",
   "metadata": {},
   "outputs": [],
   "source": [
    "warnings.filterwarnings('ignore')"
   ]
  },
  {
   "cell_type": "code",
   "execution_count": 9,
   "id": "ee2cbdc9",
   "metadata": {},
   "outputs": [
    {
     "data": {
      "text/plain": [
       "0"
      ]
     },
     "execution_count": 9,
     "metadata": {},
     "output_type": "execute_result"
    }
   ],
   "source": [
    "#Any row having missing Loan_ID\n",
    "df_orig['Loan_ID'].isnull().sum()"
   ]
  },
  {
   "cell_type": "markdown",
   "id": "1374a0cf",
   "metadata": {},
   "source": [
    "## Columns having null values and not having null values"
   ]
  },
  {
   "cell_type": "code",
   "execution_count": 10,
   "id": "d72e2a67",
   "metadata": {},
   "outputs": [
    {
     "name": "stdout",
     "output_type": "stream",
     "text": [
      "<class 'pandas.core.frame.DataFrame'>\n",
      "RangeIndex: 521 entries, 0 to 520\n",
      "Data columns (total 13 columns):\n",
      " #   Column             Non-Null Count  Dtype  \n",
      "---  ------             --------------  -----  \n",
      " 0   Loan_ID            521 non-null    int64  \n",
      " 1   Gender             511 non-null    object \n",
      " 2   Married            518 non-null    object \n",
      " 3   Dependents         508 non-null    object \n",
      " 4   Education          521 non-null    object \n",
      " 5   Self_Employed      494 non-null    object \n",
      " 6   ApplicantIncome    521 non-null    int64  \n",
      " 7   CoapplicantIncome  521 non-null    float64\n",
      " 8   LoanAmount         521 non-null    int64  \n",
      " 9   Loan_Amount_Term   507 non-null    float64\n",
      " 10  Credit_History     478 non-null    float64\n",
      " 11  Property_Area      521 non-null    object \n",
      " 12  Loan_Status        521 non-null    object \n",
      "dtypes: float64(3), int64(3), object(7)\n",
      "memory usage: 53.0+ KB\n"
     ]
    }
   ],
   "source": [
    "df_orig.info()"
   ]
  },
  {
   "cell_type": "code",
   "execution_count": 11,
   "id": "bbe2af2e",
   "metadata": {},
   "outputs": [
    {
     "data": {
      "text/plain": [
       "Credit_History       43\n",
       "Self_Employed        27\n",
       "Loan_Amount_Term     14\n",
       "Dependents           13\n",
       "Gender               10\n",
       "Married               3\n",
       "Loan_ID               0\n",
       "Education             0\n",
       "ApplicantIncome       0\n",
       "CoapplicantIncome     0\n",
       "LoanAmount            0\n",
       "Property_Area         0\n",
       "Loan_Status           0\n",
       "dtype: int64"
      ]
     },
     "execution_count": 11,
     "metadata": {},
     "output_type": "execute_result"
    }
   ],
   "source": [
    "#Count of null values for each column\n",
    "df.isna().sum().sort_values(ascending=False)"
   ]
  },
  {
   "cell_type": "markdown",
   "id": "b6d210a1",
   "metadata": {},
   "source": [
    "\n",
    "# Not having null values\n",
    "- Loan_ID\n",
    "- Education\n",
    "- ApplicantIncome\n",
    "- CoapplicantIncome\n",
    "- LoanAmount\n",
    "- Property_Area\n",
    "- Loan_Status\n",
    "\n",
    "# Having null values\n",
    "- Gender\n",
    "- Married\n",
    "- Dependents\n",
    "- Self_Employed\n",
    "- Loan_Amount_Term\n",
    "- Credit_History\n"
   ]
  },
  {
   "cell_type": "code",
   "execution_count": 12,
   "id": "577e3b87",
   "metadata": {},
   "outputs": [],
   "source": [
    "## Treat Null values\n",
    "df['Credit_History'].fillna(df['Credit_History'].mode()[0],inplace=True)\n",
    "df['Self_Employed'].fillna(df['Self_Employed'].mode()[0],inplace=True)\n",
    "df['Loan_Amount_Term'].fillna(df['Loan_Amount_Term'].mode()[0],inplace=True)\n",
    "df['Dependents'].fillna(df['Dependents'].mode()[0],inplace=True)\n",
    "df['Gender'].fillna(df['Gender'].mode()[0],inplace=True)\n",
    "df['Married'].fillna(df['Married'].mode()[0],inplace=True)"
   ]
  },
  {
   "cell_type": "code",
   "execution_count": 13,
   "id": "bb1a3b91",
   "metadata": {},
   "outputs": [
    {
     "data": {
      "text/plain": [
       "Loan_ID              0\n",
       "Gender               0\n",
       "Married              0\n",
       "Dependents           0\n",
       "Education            0\n",
       "Self_Employed        0\n",
       "ApplicantIncome      0\n",
       "CoapplicantIncome    0\n",
       "LoanAmount           0\n",
       "Loan_Amount_Term     0\n",
       "Credit_History       0\n",
       "Property_Area        0\n",
       "Loan_Status          0\n",
       "dtype: int64"
      ]
     },
     "execution_count": 13,
     "metadata": {},
     "output_type": "execute_result"
    }
   ],
   "source": [
    "#Count of null values for each column after treating null values\n",
    "df.isna().sum().sort_values(ascending=False)"
   ]
  },
  {
   "cell_type": "code",
   "execution_count": 14,
   "id": "614d2f19",
   "metadata": {},
   "outputs": [
    {
     "data": {
      "text/plain": [
       "Y    358\n",
       "N    163\n",
       "Name: Loan_Status, dtype: int64"
      ]
     },
     "execution_count": 14,
     "metadata": {},
     "output_type": "execute_result"
    }
   ],
   "source": [
    "#Count distinct values for Loan Status\n",
    "df['Loan_Status'].value_counts()"
   ]
  },
  {
   "cell_type": "code",
   "execution_count": 15,
   "id": "5d5633f4",
   "metadata": {},
   "outputs": [],
   "source": [
    "## Label Target feature(Loan_Status) as 1/0 in working copy dataframe"
   ]
  },
  {
   "cell_type": "code",
   "execution_count": 16,
   "id": "aee9ed12",
   "metadata": {},
   "outputs": [],
   "source": [
    "df['Loan_Status'] = np.where(df['Loan_Status']==\"Y\",1,0)"
   ]
  },
  {
   "cell_type": "markdown",
   "id": "542e3d5b",
   "metadata": {},
   "source": [
    "## Statistical validation for categorical features (Chi-square Test)"
   ]
  },
  {
   "cell_type": "markdown",
   "id": "4814bbbf",
   "metadata": {},
   "source": [
    "# Hypothesis Testing \n",
    "## Null hypothesis : \n",
    "- Independent feature have no impact on Target variable\n",
    "\n",
    "## Alternate hypothesis : \n",
    "- Independent feature have impact on Target variable"
   ]
  },
  {
   "cell_type": "code",
   "execution_count": 17,
   "id": "d6c5adae",
   "metadata": {},
   "outputs": [
    {
     "data": {
      "text/html": [
       "<div>\n",
       "<style scoped>\n",
       "    .dataframe tbody tr th:only-of-type {\n",
       "        vertical-align: middle;\n",
       "    }\n",
       "\n",
       "    .dataframe tbody tr th {\n",
       "        vertical-align: top;\n",
       "    }\n",
       "\n",
       "    .dataframe thead th {\n",
       "        text-align: right;\n",
       "    }\n",
       "</style>\n",
       "<table border=\"1\" class=\"dataframe\">\n",
       "  <thead>\n",
       "    <tr style=\"text-align: right;\">\n",
       "      <th>Loan_Status</th>\n",
       "      <th>N</th>\n",
       "      <th>Y</th>\n",
       "    </tr>\n",
       "    <tr>\n",
       "      <th>Gender</th>\n",
       "      <th></th>\n",
       "      <th></th>\n",
       "    </tr>\n",
       "  </thead>\n",
       "  <tbody>\n",
       "    <tr>\n",
       "      <th>Female</th>\n",
       "      <td>32</td>\n",
       "      <td>64</td>\n",
       "    </tr>\n",
       "    <tr>\n",
       "      <th>Male</th>\n",
       "      <td>127</td>\n",
       "      <td>288</td>\n",
       "    </tr>\n",
       "  </tbody>\n",
       "</table>\n",
       "</div>"
      ],
      "text/plain": [
       "Loan_Status    N    Y\n",
       "Gender               \n",
       "Female        32   64\n",
       "Male         127  288"
      ]
     },
     "execution_count": 17,
     "metadata": {},
     "output_type": "execute_result"
    }
   ],
   "source": [
    "contingency_gender = pd.crosstab(df_orig['Gender'], df_orig['Loan_Status'])\n",
    "contingency_gender"
   ]
  },
  {
   "cell_type": "code",
   "execution_count": 18,
   "id": "57be1d91",
   "metadata": {},
   "outputs": [],
   "source": [
    "c, p_gender, dof, expected = chi2_contingency(contingency_gender)"
   ]
  },
  {
   "cell_type": "code",
   "execution_count": 19,
   "id": "d7cb4468",
   "metadata": {},
   "outputs": [
    {
     "data": {
      "text/html": [
       "<div>\n",
       "<style scoped>\n",
       "    .dataframe tbody tr th:only-of-type {\n",
       "        vertical-align: middle;\n",
       "    }\n",
       "\n",
       "    .dataframe tbody tr th {\n",
       "        vertical-align: top;\n",
       "    }\n",
       "\n",
       "    .dataframe thead th {\n",
       "        text-align: right;\n",
       "    }\n",
       "</style>\n",
       "<table border=\"1\" class=\"dataframe\">\n",
       "  <thead>\n",
       "    <tr style=\"text-align: right;\">\n",
       "      <th>Loan_Status</th>\n",
       "      <th>N</th>\n",
       "      <th>Y</th>\n",
       "    </tr>\n",
       "    <tr>\n",
       "      <th>Married</th>\n",
       "      <th></th>\n",
       "      <th></th>\n",
       "    </tr>\n",
       "  </thead>\n",
       "  <tbody>\n",
       "    <tr>\n",
       "      <th>No</th>\n",
       "      <td>68</td>\n",
       "      <td>115</td>\n",
       "    </tr>\n",
       "    <tr>\n",
       "      <th>Yes</th>\n",
       "      <td>95</td>\n",
       "      <td>240</td>\n",
       "    </tr>\n",
       "  </tbody>\n",
       "</table>\n",
       "</div>"
      ],
      "text/plain": [
       "Loan_Status   N    Y\n",
       "Married             \n",
       "No           68  115\n",
       "Yes          95  240"
      ]
     },
     "execution_count": 19,
     "metadata": {},
     "output_type": "execute_result"
    }
   ],
   "source": [
    "contingency_married = pd.crosstab(df_orig['Married'], df_orig['Loan_Status'])\n",
    "contingency_married"
   ]
  },
  {
   "cell_type": "code",
   "execution_count": 20,
   "id": "f08dd806",
   "metadata": {},
   "outputs": [],
   "source": [
    "c, p_married, dof, expected = chi2_contingency(contingency_married)"
   ]
  },
  {
   "cell_type": "code",
   "execution_count": 21,
   "id": "5bc37afe",
   "metadata": {},
   "outputs": [
    {
     "data": {
      "text/html": [
       "<div>\n",
       "<style scoped>\n",
       "    .dataframe tbody tr th:only-of-type {\n",
       "        vertical-align: middle;\n",
       "    }\n",
       "\n",
       "    .dataframe tbody tr th {\n",
       "        vertical-align: top;\n",
       "    }\n",
       "\n",
       "    .dataframe thead th {\n",
       "        text-align: right;\n",
       "    }\n",
       "</style>\n",
       "<table border=\"1\" class=\"dataframe\">\n",
       "  <thead>\n",
       "    <tr style=\"text-align: right;\">\n",
       "      <th>Loan_Status</th>\n",
       "      <th>N</th>\n",
       "      <th>Y</th>\n",
       "    </tr>\n",
       "    <tr>\n",
       "      <th>Dependents</th>\n",
       "      <th></th>\n",
       "      <th></th>\n",
       "    </tr>\n",
       "  </thead>\n",
       "  <tbody>\n",
       "    <tr>\n",
       "      <th>0</th>\n",
       "      <td>94</td>\n",
       "      <td>205</td>\n",
       "    </tr>\n",
       "    <tr>\n",
       "      <th>1</th>\n",
       "      <td>32</td>\n",
       "      <td>52</td>\n",
       "    </tr>\n",
       "    <tr>\n",
       "      <th>2</th>\n",
       "      <td>18</td>\n",
       "      <td>66</td>\n",
       "    </tr>\n",
       "    <tr>\n",
       "      <th>3+</th>\n",
       "      <td>15</td>\n",
       "      <td>26</td>\n",
       "    </tr>\n",
       "  </tbody>\n",
       "</table>\n",
       "</div>"
      ],
      "text/plain": [
       "Loan_Status   N    Y\n",
       "Dependents          \n",
       "0            94  205\n",
       "1            32   52\n",
       "2            18   66\n",
       "3+           15   26"
      ]
     },
     "execution_count": 21,
     "metadata": {},
     "output_type": "execute_result"
    }
   ],
   "source": [
    "contingency_dependents = pd.crosstab(df_orig['Dependents'], df_orig['Loan_Status'])\n",
    "contingency_dependents"
   ]
  },
  {
   "cell_type": "code",
   "execution_count": 22,
   "id": "aca59f90",
   "metadata": {},
   "outputs": [],
   "source": [
    "c, p_dependents, dof, expected = chi2_contingency(contingency_dependents)"
   ]
  },
  {
   "cell_type": "code",
   "execution_count": 23,
   "id": "e7fa1662",
   "metadata": {},
   "outputs": [
    {
     "data": {
      "text/html": [
       "<div>\n",
       "<style scoped>\n",
       "    .dataframe tbody tr th:only-of-type {\n",
       "        vertical-align: middle;\n",
       "    }\n",
       "\n",
       "    .dataframe tbody tr th {\n",
       "        vertical-align: top;\n",
       "    }\n",
       "\n",
       "    .dataframe thead th {\n",
       "        text-align: right;\n",
       "    }\n",
       "</style>\n",
       "<table border=\"1\" class=\"dataframe\">\n",
       "  <thead>\n",
       "    <tr style=\"text-align: right;\">\n",
       "      <th>Loan_Status</th>\n",
       "      <th>N</th>\n",
       "      <th>Y</th>\n",
       "    </tr>\n",
       "    <tr>\n",
       "      <th>Education</th>\n",
       "      <th></th>\n",
       "      <th></th>\n",
       "    </tr>\n",
       "  </thead>\n",
       "  <tbody>\n",
       "    <tr>\n",
       "      <th>Graduate</th>\n",
       "      <td>117</td>\n",
       "      <td>291</td>\n",
       "    </tr>\n",
       "    <tr>\n",
       "      <th>Not Graduate</th>\n",
       "      <td>46</td>\n",
       "      <td>67</td>\n",
       "    </tr>\n",
       "  </tbody>\n",
       "</table>\n",
       "</div>"
      ],
      "text/plain": [
       "Loan_Status     N    Y\n",
       "Education             \n",
       "Graduate      117  291\n",
       "Not Graduate   46   67"
      ]
     },
     "execution_count": 23,
     "metadata": {},
     "output_type": "execute_result"
    }
   ],
   "source": [
    "contingency_education = pd.crosstab(df_orig['Education'], df_orig['Loan_Status'])\n",
    "contingency_education"
   ]
  },
  {
   "cell_type": "code",
   "execution_count": 24,
   "id": "866e7739",
   "metadata": {},
   "outputs": [],
   "source": [
    "c, p_education, dof, expected = chi2_contingency(contingency_education)"
   ]
  },
  {
   "cell_type": "code",
   "execution_count": 25,
   "id": "4039a090",
   "metadata": {},
   "outputs": [
    {
     "data": {
      "text/html": [
       "<div>\n",
       "<style scoped>\n",
       "    .dataframe tbody tr th:only-of-type {\n",
       "        vertical-align: middle;\n",
       "    }\n",
       "\n",
       "    .dataframe tbody tr th {\n",
       "        vertical-align: top;\n",
       "    }\n",
       "\n",
       "    .dataframe thead th {\n",
       "        text-align: right;\n",
       "    }\n",
       "</style>\n",
       "<table border=\"1\" class=\"dataframe\">\n",
       "  <thead>\n",
       "    <tr style=\"text-align: right;\">\n",
       "      <th>Loan_Status</th>\n",
       "      <th>N</th>\n",
       "      <th>Y</th>\n",
       "    </tr>\n",
       "    <tr>\n",
       "      <th>Self_Employed</th>\n",
       "      <th></th>\n",
       "      <th></th>\n",
       "    </tr>\n",
       "  </thead>\n",
       "  <tbody>\n",
       "    <tr>\n",
       "      <th>No</th>\n",
       "      <td>134</td>\n",
       "      <td>293</td>\n",
       "    </tr>\n",
       "    <tr>\n",
       "      <th>Yes</th>\n",
       "      <td>21</td>\n",
       "      <td>46</td>\n",
       "    </tr>\n",
       "  </tbody>\n",
       "</table>\n",
       "</div>"
      ],
      "text/plain": [
       "Loan_Status      N    Y\n",
       "Self_Employed          \n",
       "No             134  293\n",
       "Yes             21   46"
      ]
     },
     "execution_count": 25,
     "metadata": {},
     "output_type": "execute_result"
    }
   ],
   "source": [
    "contingency_self_employed = pd.crosstab(df_orig['Self_Employed'], df_orig['Loan_Status'])\n",
    "contingency_self_employed"
   ]
  },
  {
   "cell_type": "code",
   "execution_count": 26,
   "id": "e6920adf",
   "metadata": {},
   "outputs": [],
   "source": [
    "c, p_self_employed, dof, expected = chi2_contingency(contingency_self_employed)"
   ]
  },
  {
   "cell_type": "code",
   "execution_count": 27,
   "id": "74826a2e",
   "metadata": {},
   "outputs": [
    {
     "data": {
      "text/html": [
       "<div>\n",
       "<style scoped>\n",
       "    .dataframe tbody tr th:only-of-type {\n",
       "        vertical-align: middle;\n",
       "    }\n",
       "\n",
       "    .dataframe tbody tr th {\n",
       "        vertical-align: top;\n",
       "    }\n",
       "\n",
       "    .dataframe thead th {\n",
       "        text-align: right;\n",
       "    }\n",
       "</style>\n",
       "<table border=\"1\" class=\"dataframe\">\n",
       "  <thead>\n",
       "    <tr style=\"text-align: right;\">\n",
       "      <th>Loan_Status</th>\n",
       "      <th>N</th>\n",
       "      <th>Y</th>\n",
       "    </tr>\n",
       "    <tr>\n",
       "      <th>Property_Area</th>\n",
       "      <th></th>\n",
       "      <th></th>\n",
       "    </tr>\n",
       "  </thead>\n",
       "  <tbody>\n",
       "    <tr>\n",
       "      <th>Rural</th>\n",
       "      <td>60</td>\n",
       "      <td>88</td>\n",
       "    </tr>\n",
       "    <tr>\n",
       "      <th>Semiurban</th>\n",
       "      <td>42</td>\n",
       "      <td>155</td>\n",
       "    </tr>\n",
       "    <tr>\n",
       "      <th>Urban</th>\n",
       "      <td>61</td>\n",
       "      <td>115</td>\n",
       "    </tr>\n",
       "  </tbody>\n",
       "</table>\n",
       "</div>"
      ],
      "text/plain": [
       "Loan_Status     N    Y\n",
       "Property_Area         \n",
       "Rural          60   88\n",
       "Semiurban      42  155\n",
       "Urban          61  115"
      ]
     },
     "execution_count": 27,
     "metadata": {},
     "output_type": "execute_result"
    }
   ],
   "source": [
    "contingency_property_area = pd.crosstab(df_orig['Property_Area'], df_orig['Loan_Status'])\n",
    "contingency_property_area"
   ]
  },
  {
   "cell_type": "code",
   "execution_count": 28,
   "id": "4dabf699",
   "metadata": {},
   "outputs": [],
   "source": [
    "c, p_property_area, dof, expected = chi2_contingency(contingency_property_area)"
   ]
  },
  {
   "cell_type": "code",
   "execution_count": 29,
   "id": "2c7da28b",
   "metadata": {},
   "outputs": [
    {
     "name": "stdout",
     "output_type": "stream",
     "text": [
      "p-value for Gender: 0.6902367665572007\n",
      "p-value for Married: 0.04969152864604629\n",
      "p-value for Dependents: 0.10472909943994584\n",
      "p-value for Education: 0.019997766888094164\n",
      "p-value for Self-Employed: 0.8923843783960755\n",
      "p-value for Property Area: 0.00034748077291321715\n"
     ]
    }
   ],
   "source": [
    "print(\"p-value for Gender:\",p_gender)\n",
    "print(\"p-value for Married:\", p_married)\n",
    "print(\"p-value for Dependents:\", p_dependents)\n",
    "print(\"p-value for Education:\", p_education)\n",
    "print(\"p-value for Self-Employed:\", p_self_employed)\n",
    "print(\"p-value for Property Area:\", p_property_area)"
   ]
  },
  {
   "cell_type": "markdown",
   "id": "8c955f62",
   "metadata": {},
   "source": [
    "## Outcome of hypothesis testing for categorical features\n",
    "- p-value in case of Gender, Dependents, Self-Employed is > 5%. It means we accept null hypothesis.\n",
    "    - These features have no impact on target variable.\n",
    "- p-value in case of Married, Education, Property_Area is < 5%. It means we reject the null hypothesis.\n",
    "    - These features have impact on target variable."
   ]
  },
  {
   "cell_type": "markdown",
   "id": "b77755ef",
   "metadata": {},
   "source": [
    "# Statistical validation of numerical features (ANOVA test)"
   ]
  },
  {
   "cell_type": "markdown",
   "id": "57f9528e",
   "metadata": {},
   "source": [
    "## Hypothesis Testing \n",
    "### Null hypothesis : \n",
    "- Independent feature have no impact on Target variable\n",
    "\n",
    "### Alternate hypothesis : \n",
    "- Independent feature have impact on Target variable"
   ]
  },
  {
   "cell_type": "markdown",
   "id": "1dc904c1",
   "metadata": {},
   "source": [
    "####  Standardize the data having large values by dividing the values by std deviation of data."
   ]
  },
  {
   "cell_type": "code",
   "execution_count": 30,
   "id": "1db70d9a",
   "metadata": {},
   "outputs": [],
   "source": [
    "df['LoanAmount'] = df['LoanAmount']/np.std(df['LoanAmount'])\n",
    "df['ApplicantIncome'] = df['ApplicantIncome']/np.std(df['ApplicantIncome'])\n",
    "df['CoapplicantIncome'] = df['CoapplicantIncome']/np.std(df['CoapplicantIncome'])\n",
    "df['Loan_Amount_Term'] = df['Loan_Amount_Term']/np.std(df['Loan_Amount_Term'])"
   ]
  },
  {
   "cell_type": "code",
   "execution_count": 31,
   "id": "6eb334b2",
   "metadata": {},
   "outputs": [],
   "source": [
    "stats, p_loan_amount = f_oneway(df['LoanAmount'],df['Loan_Status'])"
   ]
  },
  {
   "cell_type": "code",
   "execution_count": 32,
   "id": "0b7646e9",
   "metadata": {},
   "outputs": [],
   "source": [
    "stats, p_applicantincome = f_oneway(df['ApplicantIncome'],df['Loan_Status'])"
   ]
  },
  {
   "cell_type": "code",
   "execution_count": 33,
   "id": "2cf390ed",
   "metadata": {},
   "outputs": [],
   "source": [
    "stats, p_coapplicantincome = f_oneway(df['CoapplicantIncome'],df['Loan_Status'])"
   ]
  },
  {
   "cell_type": "code",
   "execution_count": 34,
   "id": "37b24d1d",
   "metadata": {},
   "outputs": [],
   "source": [
    "stats, p_loan_amount_term = f_oneway(df['Loan_Amount_Term'],df['Loan_Status'])"
   ]
  },
  {
   "cell_type": "code",
   "execution_count": 35,
   "id": "b0c61779",
   "metadata": {},
   "outputs": [],
   "source": [
    "stats, p_credit_history = f_oneway(df['Credit_History'],df['Loan_Status'])"
   ]
  },
  {
   "cell_type": "code",
   "execution_count": 36,
   "id": "9351b052",
   "metadata": {},
   "outputs": [
    {
     "name": "stdout",
     "output_type": "stream",
     "text": [
      "p-value for Loan Amount: 4.382907408721039e-73\n",
      "p-value for Applicant Income: 0.0008524533546734464\n",
      "p-value for Co Applicant Income: 0.42929798286039866\n",
      "p-value for Loan Amount Term: 0.0\n",
      "p-value for Credit History: 1.7471778665369022e-11\n"
     ]
    }
   ],
   "source": [
    "print(\"p-value for Loan Amount:\",p_loan_amount)\n",
    "print(\"p-value for Applicant Income:\", p_applicantincome)\n",
    "print(\"p-value for Co Applicant Income:\", p_coapplicantincome)\n",
    "print(\"p-value for Loan Amount Term:\", p_loan_amount_term)\n",
    "print(\"p-value for Credit History:\", p_credit_history)"
   ]
  },
  {
   "cell_type": "markdown",
   "id": "b3c80c63",
   "metadata": {},
   "source": [
    "## Outcome of hypothesis testing\n",
    "- p-value in case of Co Applicant Income is > 5%. It means we accept null hypothesis.\n",
    "    - This feature have no impact on target variable.\n",
    "- p-value in case of Loan Amount, Applicant Income,Loan Amount Term, Credit History is < 5%. It means we reject the null hypothesis.\n",
    "    - These features have impact on target variable."
   ]
  },
  {
   "cell_type": "markdown",
   "id": "7221a38a",
   "metadata": {},
   "source": [
    "## Plots for numerical features"
   ]
  },
  {
   "cell_type": "code",
   "execution_count": 37,
   "id": "589e15ea",
   "metadata": {},
   "outputs": [],
   "source": [
    "X = df\n",
    "num = X.select_dtypes(include='number')\n",
    "char = X.select_dtypes(include='object')\n",
    "#Drop Loan_ID feature as it has no impact on target feature\n",
    "num.drop('Loan_ID',axis=1,inplace=True)\n",
    "# num.drop('Loan_Status',axis=1,inplace=True)"
   ]
  },
  {
   "cell_type": "code",
   "execution_count": 38,
   "id": "e11cfe70",
   "metadata": {},
   "outputs": [
    {
     "data": {
      "text/plain": [
       "ApplicantIncome      6.480148\n",
       "CoapplicantIncome    3.407483\n",
       "LoanAmount           2.485041\n",
       "Loan_Amount_Term    -2.376678\n",
       "Credit_History      -2.079620\n",
       "Loan_Status         -0.809566\n",
       "dtype: float64"
      ]
     },
     "execution_count": 38,
     "metadata": {},
     "output_type": "execute_result"
    }
   ],
   "source": [
    "# Every numerical feature is highly skewed. Last 2 features are negatively skewed.\n",
    "num.skew()"
   ]
  },
  {
   "cell_type": "code",
   "execution_count": 39,
   "id": "06a4c567",
   "metadata": {},
   "outputs": [
    {
     "data": {
      "text/html": [
       "<div>\n",
       "<style scoped>\n",
       "    .dataframe tbody tr th:only-of-type {\n",
       "        vertical-align: middle;\n",
       "    }\n",
       "\n",
       "    .dataframe tbody tr th {\n",
       "        vertical-align: top;\n",
       "    }\n",
       "\n",
       "    .dataframe thead th {\n",
       "        text-align: right;\n",
       "    }\n",
       "</style>\n",
       "<table border=\"1\" class=\"dataframe\">\n",
       "  <thead>\n",
       "    <tr style=\"text-align: right;\">\n",
       "      <th></th>\n",
       "      <th>ApplicantIncome</th>\n",
       "      <th>CoapplicantIncome</th>\n",
       "      <th>LoanAmount</th>\n",
       "      <th>Loan_Amount_Term</th>\n",
       "      <th>Credit_History</th>\n",
       "      <th>Loan_Status</th>\n",
       "    </tr>\n",
       "  </thead>\n",
       "  <tbody>\n",
       "    <tr>\n",
       "      <th>0</th>\n",
       "      <td>0.908629</td>\n",
       "      <td>0.000000</td>\n",
       "      <td>1.461253</td>\n",
       "      <td>5.7376</td>\n",
       "      <td>1.0</td>\n",
       "      <td>1</td>\n",
       "    </tr>\n",
       "    <tr>\n",
       "      <th>1</th>\n",
       "      <td>0.711959</td>\n",
       "      <td>0.703991</td>\n",
       "      <td>1.496323</td>\n",
       "      <td>5.7376</td>\n",
       "      <td>1.0</td>\n",
       "      <td>0</td>\n",
       "    </tr>\n",
       "    <tr>\n",
       "      <th>2</th>\n",
       "      <td>0.466043</td>\n",
       "      <td>0.000000</td>\n",
       "      <td>0.771541</td>\n",
       "      <td>5.7376</td>\n",
       "      <td>1.0</td>\n",
       "      <td>1</td>\n",
       "    </tr>\n",
       "    <tr>\n",
       "      <th>3</th>\n",
       "      <td>0.401263</td>\n",
       "      <td>1.100803</td>\n",
       "      <td>1.402803</td>\n",
       "      <td>5.7376</td>\n",
       "      <td>1.0</td>\n",
       "      <td>1</td>\n",
       "    </tr>\n",
       "    <tr>\n",
       "      <th>4</th>\n",
       "      <td>0.932087</td>\n",
       "      <td>0.000000</td>\n",
       "      <td>1.648293</td>\n",
       "      <td>5.7376</td>\n",
       "      <td>1.0</td>\n",
       "      <td>1</td>\n",
       "    </tr>\n",
       "  </tbody>\n",
       "</table>\n",
       "</div>"
      ],
      "text/plain": [
       "   ApplicantIncome  CoapplicantIncome  LoanAmount  Loan_Amount_Term  \\\n",
       "0         0.908629           0.000000    1.461253            5.7376   \n",
       "1         0.711959           0.703991    1.496323            5.7376   \n",
       "2         0.466043           0.000000    0.771541            5.7376   \n",
       "3         0.401263           1.100803    1.402803            5.7376   \n",
       "4         0.932087           0.000000    1.648293            5.7376   \n",
       "\n",
       "   Credit_History  Loan_Status  \n",
       "0             1.0            1  \n",
       "1             1.0            0  \n",
       "2             1.0            1  \n",
       "3             1.0            1  \n",
       "4             1.0            1  "
      ]
     },
     "execution_count": 39,
     "metadata": {},
     "output_type": "execute_result"
    }
   ],
   "source": [
    "num.head()"
   ]
  },
  {
   "cell_type": "code",
   "execution_count": 40,
   "id": "c1e6038e",
   "metadata": {},
   "outputs": [],
   "source": [
    "from sklearn.feature_selection import VarianceThreshold\n",
    "\n",
    "varselector= VarianceThreshold(threshold=0)\n",
    "varselector.fit_transform(num)\n",
    "# Get columns to keep and create new dataframe with those only\n",
    "cols = varselector.get_support(indices=True)\n",
    "num_1 = num.iloc[:,cols]"
   ]
  },
  {
   "cell_type": "code",
   "execution_count": 41,
   "id": "43d5c22e",
   "metadata": {},
   "outputs": [
    {
     "data": {
      "text/html": [
       "<div>\n",
       "<style scoped>\n",
       "    .dataframe tbody tr th:only-of-type {\n",
       "        vertical-align: middle;\n",
       "    }\n",
       "\n",
       "    .dataframe tbody tr th {\n",
       "        vertical-align: top;\n",
       "    }\n",
       "\n",
       "    .dataframe thead th {\n",
       "        text-align: right;\n",
       "    }\n",
       "</style>\n",
       "<table border=\"1\" class=\"dataframe\">\n",
       "  <thead>\n",
       "    <tr style=\"text-align: right;\">\n",
       "      <th></th>\n",
       "      <th>ApplicantIncome</th>\n",
       "      <th>CoapplicantIncome</th>\n",
       "      <th>LoanAmount</th>\n",
       "      <th>Loan_Amount_Term</th>\n",
       "      <th>Credit_History</th>\n",
       "      <th>Loan_Status</th>\n",
       "    </tr>\n",
       "  </thead>\n",
       "  <tbody>\n",
       "    <tr>\n",
       "      <th>0</th>\n",
       "      <td>0.908629</td>\n",
       "      <td>0.000000</td>\n",
       "      <td>1.461253</td>\n",
       "      <td>5.737600</td>\n",
       "      <td>1.0</td>\n",
       "      <td>1</td>\n",
       "    </tr>\n",
       "    <tr>\n",
       "      <th>1</th>\n",
       "      <td>0.711959</td>\n",
       "      <td>0.703991</td>\n",
       "      <td>1.496323</td>\n",
       "      <td>5.737600</td>\n",
       "      <td>1.0</td>\n",
       "      <td>0</td>\n",
       "    </tr>\n",
       "    <tr>\n",
       "      <th>2</th>\n",
       "      <td>0.466043</td>\n",
       "      <td>0.000000</td>\n",
       "      <td>0.771541</td>\n",
       "      <td>5.737600</td>\n",
       "      <td>1.0</td>\n",
       "      <td>1</td>\n",
       "    </tr>\n",
       "    <tr>\n",
       "      <th>3</th>\n",
       "      <td>0.401263</td>\n",
       "      <td>1.100803</td>\n",
       "      <td>1.402803</td>\n",
       "      <td>5.737600</td>\n",
       "      <td>1.0</td>\n",
       "      <td>1</td>\n",
       "    </tr>\n",
       "    <tr>\n",
       "      <th>4</th>\n",
       "      <td>0.932087</td>\n",
       "      <td>0.000000</td>\n",
       "      <td>1.648293</td>\n",
       "      <td>5.737600</td>\n",
       "      <td>1.0</td>\n",
       "      <td>1</td>\n",
       "    </tr>\n",
       "    <tr>\n",
       "      <th>...</th>\n",
       "      <td>...</td>\n",
       "      <td>...</td>\n",
       "      <td>...</td>\n",
       "      <td>...</td>\n",
       "      <td>...</td>\n",
       "      <td>...</td>\n",
       "    </tr>\n",
       "    <tr>\n",
       "      <th>516</th>\n",
       "      <td>0.315511</td>\n",
       "      <td>0.761879</td>\n",
       "      <td>1.320972</td>\n",
       "      <td>7.650134</td>\n",
       "      <td>1.0</td>\n",
       "      <td>1</td>\n",
       "    </tr>\n",
       "    <tr>\n",
       "      <th>517</th>\n",
       "      <td>0.477539</td>\n",
       "      <td>0.840307</td>\n",
       "      <td>1.437873</td>\n",
       "      <td>5.737600</td>\n",
       "      <td>0.0</td>\n",
       "      <td>0</td>\n",
       "    </tr>\n",
       "    <tr>\n",
       "      <th>518</th>\n",
       "      <td>0.727494</td>\n",
       "      <td>0.893994</td>\n",
       "      <td>2.162654</td>\n",
       "      <td>5.737600</td>\n",
       "      <td>1.0</td>\n",
       "      <td>0</td>\n",
       "    </tr>\n",
       "    <tr>\n",
       "      <th>519</th>\n",
       "      <td>0.528182</td>\n",
       "      <td>0.000000</td>\n",
       "      <td>1.110552</td>\n",
       "      <td>5.737600</td>\n",
       "      <td>1.0</td>\n",
       "      <td>0</td>\n",
       "    </tr>\n",
       "    <tr>\n",
       "      <th>520</th>\n",
       "      <td>0.340522</td>\n",
       "      <td>0.813231</td>\n",
       "      <td>0.526051</td>\n",
       "      <td>5.737600</td>\n",
       "      <td>1.0</td>\n",
       "      <td>1</td>\n",
       "    </tr>\n",
       "  </tbody>\n",
       "</table>\n",
       "<p>521 rows × 6 columns</p>\n",
       "</div>"
      ],
      "text/plain": [
       "     ApplicantIncome  CoapplicantIncome  LoanAmount  Loan_Amount_Term  \\\n",
       "0           0.908629           0.000000    1.461253          5.737600   \n",
       "1           0.711959           0.703991    1.496323          5.737600   \n",
       "2           0.466043           0.000000    0.771541          5.737600   \n",
       "3           0.401263           1.100803    1.402803          5.737600   \n",
       "4           0.932087           0.000000    1.648293          5.737600   \n",
       "..               ...                ...         ...               ...   \n",
       "516         0.315511           0.761879    1.320972          7.650134   \n",
       "517         0.477539           0.840307    1.437873          5.737600   \n",
       "518         0.727494           0.893994    2.162654          5.737600   \n",
       "519         0.528182           0.000000    1.110552          5.737600   \n",
       "520         0.340522           0.813231    0.526051          5.737600   \n",
       "\n",
       "     Credit_History  Loan_Status  \n",
       "0               1.0            1  \n",
       "1               1.0            0  \n",
       "2               1.0            1  \n",
       "3               1.0            1  \n",
       "4               1.0            1  \n",
       "..              ...          ...  \n",
       "516             1.0            1  \n",
       "517             0.0            0  \n",
       "518             1.0            0  \n",
       "519             1.0            0  \n",
       "520             1.0            1  \n",
       "\n",
       "[521 rows x 6 columns]"
      ]
     },
     "execution_count": 41,
     "metadata": {},
     "output_type": "execute_result"
    }
   ],
   "source": [
    "num_1"
   ]
  },
  {
   "cell_type": "code",
   "execution_count": 79,
   "id": "7968d7c3",
   "metadata": {},
   "outputs": [
    {
     "data": {
      "image/png": "[encoded data removed]",
      "text/plain": [
       "<Figure size 720x216 with 1 Axes>"
      ]
     },
     "metadata": {
      "needs_background": "light"
     },
     "output_type": "display_data"
    },
    {
     "data": {
      "image/png": "[encoded data removed]",
      "text/plain": [
       "<Figure size 720x216 with 1 Axes>"
      ]
     },
     "metadata": {
      "needs_background": "light"
     },
     "output_type": "display_data"
    },
    {
     "data": {
      "image/png": "[encoded data removed]",
      "text/plain": [
       "<Figure size 720x216 with 1 Axes>"
      ]
     },
     "metadata": {
      "needs_background": "light"
     },
     "output_type": "display_data"
    },
    {
     "data": {
      "image/png": "[encoded data removed]",
      "text/plain": [
       "<Figure size 720x216 with 1 Axes>"
      ]
     },
     "metadata": {
      "needs_background": "light"
     },
     "output_type": "display_data"
    },
    {
     "data": {
      "image/png": "[encoded data removed]",
      "text/plain": [
       "<Figure size 720x216 with 1 Axes>"
      ]
     },
     "metadata": {
      "needs_background": "light"
     },
     "output_type": "display_data"
    },
    {
     "data": {
      "image/png": "[encoded data removed]",
      "text/plain": [
       "<Figure size 720x216 with 1 Axes>"
      ]
     },
     "metadata": {
      "needs_background": "light"
     },
     "output_type": "display_data"
    }
   ],
   "source": [
    "for col in num.columns:\n",
    "    plt.figure(figsize=(10,3)) #X-axis, Y-axis\n",
    "    plt.title('Histogram for'+\" \"+col, fontsize=15)\n",
    "    sns.histplot(df[col])\n",
    "    plt.show() "
   ]
  },
  {
   "cell_type": "code",
   "execution_count": 75,
   "id": "e0f3efb9",
   "metadata": {},
   "outputs": [
    {
     "data": {
      "text/plain": [
       "<seaborn.axisgrid.FacetGrid at 0x2307f3bd0a0>"
      ]
     },
     "execution_count": 75,
     "metadata": {},
     "output_type": "execute_result"
    },
    {
     "data": {
      "image/png": "[encoded data removed]",
      "text/plain": [
       "<Figure size 428.625x360 with 1 Axes>"
      ]
     },
     "metadata": {
      "needs_background": "light"
     },
     "output_type": "display_data"
    }
   ],
   "source": [
    "sns.displot(data=num, x='ApplicantIncome', hue='Loan_Status', kind='kde')"
   ]
  },
  {
   "cell_type": "code",
   "execution_count": 57,
   "id": "38f45cc1",
   "metadata": {},
   "outputs": [
    {
     "data": {
      "text/plain": [
       "<AxesSubplot:xlabel='ApplicantIncome', ylabel='LoanAmount'>"
      ]
     },
     "execution_count": 57,
     "metadata": {},
     "output_type": "execute_result"
    },
    {
     "data": {
      "image/png": "[encoded data removed]",
      "text/plain": [
       "<Figure size 432x288 with 1 Axes>"
      ]
     },
     "metadata": {
      "needs_background": "light"
     },
     "output_type": "display_data"
    }
   ],
   "source": [
    "sns.scatterplot(x=\"ApplicantIncome\",y=\"LoanAmount\",data=num,hue=\"Loan_Status\")"
   ]
  },
  {
   "cell_type": "code",
   "execution_count": 44,
   "id": "081116c3",
   "metadata": {},
   "outputs": [
    {
     "data": {
      "text/plain": [
       "<AxesSubplot:xlabel='CoapplicantIncome', ylabel='LoanAmount'>"
      ]
     },
     "execution_count": 44,
     "metadata": {},
     "output_type": "execute_result"
    },
    {
     "data": {
      "image/png": "[encoded data removed]",
      "text/plain": [
       "<Figure size 432x288 with 1 Axes>"
      ]
     },
     "metadata": {
      "needs_background": "light"
     },
     "output_type": "display_data"
    }
   ],
   "source": [
    "sns.scatterplot(x=\"CoapplicantIncome\",y=\"LoanAmount\",data=df_orig, hue=\"Loan_Status\")"
   ]
  },
  {
   "cell_type": "code",
   "execution_count": 45,
   "id": "d35a7416",
   "metadata": {},
   "outputs": [
    {
     "data": {
      "text/plain": [
       "<AxesSubplot:xlabel='ApplicantIncome', ylabel='Loan_Amount_Term'>"
      ]
     },
     "execution_count": 45,
     "metadata": {},
     "output_type": "execute_result"
    },
    {
     "data": {
      "image/png": "[encoded data removed]",
      "text/plain": [
       "<Figure size 432x288 with 1 Axes>"
      ]
     },
     "metadata": {
      "needs_background": "light"
     },
     "output_type": "display_data"
    }
   ],
   "source": [
    "sns.scatterplot(x=\"ApplicantIncome\",y=\"Loan_Amount_Term\",data=df_orig,hue=\"Loan_Status\")"
   ]
  },
  {
   "cell_type": "code",
   "execution_count": 46,
   "id": "d9067e21",
   "metadata": {},
   "outputs": [
    {
     "data": {
      "text/plain": [
       "<AxesSubplot:xlabel='CoapplicantIncome', ylabel='Loan_Amount_Term'>"
      ]
     },
     "execution_count": 46,
     "metadata": {},
     "output_type": "execute_result"
    },
    {
     "data": {
      "image/png": "[encoded data removed]",
      "text/plain": [
       "<Figure size 432x288 with 1 Axes>"
      ]
     },
     "metadata": {
      "needs_background": "light"
     },
     "output_type": "display_data"
    }
   ],
   "source": [
    "sns.scatterplot(x=\"CoapplicantIncome\",y=\"Loan_Amount_Term\",data=df_orig,hue=\"Loan_Status\")"
   ]
  },
  {
   "cell_type": "markdown",
   "id": "aa980e47",
   "metadata": {},
   "source": [
    "## Create correlation matrix for numerical features"
   ]
  },
  {
   "cell_type": "code",
   "execution_count": 47,
   "id": "46f2ca0f",
   "metadata": {},
   "outputs": [],
   "source": [
    "df.drop('Loan_ID',axis=1,inplace=True)\n",
    "corr = df.corr()"
   ]
  },
  {
   "cell_type": "code",
   "execution_count": 48,
   "id": "cef7aa33",
   "metadata": {},
   "outputs": [
    {
     "data": {
      "image/png": "[encoded data removed]",
      "text/plain": [
       "<Figure size 1440x720 with 2 Axes>"
      ]
     },
     "metadata": {
      "needs_background": "light"
     },
     "output_type": "display_data"
    }
   ],
   "source": [
    "#Heatmap of correlation matrix\n",
    "plt.figure(figsize=(20,10))\n",
    "plt.title('Correlation matrix',fontsize=20)\n",
    "sns.heatmap(corr,cmap='RdYlGn',annot=True,vmax=1.0,vmin=-1.0,fmt='g') #fmt creates scale appearing towards right\n",
    "plt.show()"
   ]
  },
  {
   "cell_type": "markdown",
   "id": "6354ac68",
   "metadata": {},
   "source": [
    "## Analysis of numerical features\n",
    "- Credit History and Loan Status have a +ve correlation.\n",
    "- Loan Amount and Applicant Income have a +ve correlation.\n",
    "- Loan Amount and Co-Applicant Income have a +ve correlation.\n",
    "- 50% of applicant have income between 646875.0 and 1292850.0 \n",
    "- 50% of coapplicant have income between 0 and 517950.0\n",
    "- 50% of the loan given have an amount between 196000.0 and 320000.0\n",
    "- 50% of the loan have a tenure of 360 months.\n"
   ]
  },
  {
   "cell_type": "markdown",
   "id": "c532ca08",
   "metadata": {},
   "source": [
    "## Analysis of categorical features\n",
    "- Married people have higher chance of loan approval as compared to unmarried people\n",
    "- People having 2 dependents are more likely to get Loan approval\n",
    "- Graduate people have higher chance for getting loan approval\n",
    "- More loans are approved for Semiurban property\n",
    "- Self employement have not much significance on loan approval\n",
    "- Male borrower have slightly higher chance of loan approval as compared to female borrrower\n",
    "- Credit history have a huge influence on getting loan approval.Person having credit history is more likely to get loan approval as compared to person having no credit history"
   ]
  },
  {
   "cell_type": "code",
   "execution_count": 52,
   "id": "7b628abf",
   "metadata": {},
   "outputs": [
    {
     "data": {
      "image/png": "[encoded data removed]",
      "text/plain": [
       "<Figure size 1008x360 with 2 Axes>"
      ]
     },
     "metadata": {
      "needs_background": "light"
     },
     "output_type": "display_data"
    }
   ],
   "source": [
    "plt.figure(figsize=(14,5))\n",
    "\n",
    "plt.subplot(1,2,1)\n",
    "plt.scatter(num['LoanAmount'], num['Loan_Status'])\n",
    "plt.ylabel('Feature Y')\n",
    "plt.xlabel('Feature X1')\n",
    "\n",
    "plt.subplot(1,2,2)\n",
    "plt.scatter(df['ApplicantIncome'], df['Loan_Status'])\n",
    "plt.ylabel('Feature Y')\n",
    "plt.xlabel('Feature X2')\n",
    "\n",
    "plt.show()"
   ]
  },
  {
   "cell_type": "code",
   "execution_count": 53,
   "id": "9e6157f9",
   "metadata": {},
   "outputs": [
    {
     "data": {
      "image/png": "[encoded data removed]",
      "text/plain": [
       "<Figure size 1008x360 with 2 Axes>"
      ]
     },
     "metadata": {
      "needs_background": "light"
     },
     "output_type": "display_data"
    }
   ],
   "source": [
    "plt.figure(figsize=(14,5))\n",
    "\n",
    "plt.subplot(1,2,1)\n",
    "plt.hist(num['LoanAmount'][num['Loan_Status'] == 0], bins=3, alpha = 0.7, label = 'Y = 0')\n",
    "plt.hist(num['LoanAmount'][df['Loan_Status'] == 1], bins=3, alpha = 0.7, label = 'Y = 1')\n",
    "plt.ylabel('Distribution')\n",
    "plt.xlabel('Feature X1')\n",
    "plt.legend()\n",
    "\n",
    "plt.subplot(1,2,2)\n",
    "plt.hist(num['ApplicantIncome'][df['Loan_Status'] == 0], bins=3, alpha = 0.7, label = 'Y = 0')\n",
    "plt.hist(df['ApplicantIncome'][df['Loan_Status'] == 1], bins=3, alpha = 0.7, label = 'Y = 1')\n",
    "plt.ylabel('Distribution')\n",
    "plt.xlabel('Feature X2')\n",
    "plt.legend()\n",
    "\n",
    "plt.show()"
   ]
  },
  {
   "cell_type": "code",
   "execution_count": 54,
   "id": "f7ab4bbf",
   "metadata": {},
   "outputs": [
    {
     "data": {
      "image/png": "[encoded data removed]",
      "text/plain": [
       "<Figure size 432x288 with 2 Axes>"
      ]
     },
     "metadata": {
      "needs_background": "light"
     },
     "output_type": "display_data"
    }
   ],
   "source": [
    "plt.scatter(num['LoanAmount'], num['ApplicantIncome'], c = num['Loan_Status'], cmap = 'autumn')\n",
    "plt.ylabel('Feature X2')\n",
    "plt.xlabel('Feature X1')\n",
    "plt.colorbar()\n",
    "plt.show()"
   ]
  }
 ],
 "metadata": {
  "kernelspec": {
   "display_name": "Python 3",
   "language": "python",
   "name": "python3"
  },
  "language_info": {
   "codemirror_mode": {
    "name": "ipython",
    "version": 3
   },
   "file_extension": ".py",
   "mimetype": "text/x-python",
   "name": "python",
   "nbconvert_exporter": "python",
   "pygments_lexer": "ipython3",
   "version": "3.8.8"
  }
 },
 "nbformat": 4,
 "nbformat_minor": 5
}
